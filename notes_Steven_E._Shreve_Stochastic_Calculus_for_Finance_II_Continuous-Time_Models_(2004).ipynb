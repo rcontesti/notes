{
 "cells": [
  {
   "cell_type": "markdown",
   "metadata": {
    "slideshow": {
     "slide_type": "slide"
    }
   },
   "source": [
    "# Stochastic Calculus for Finance II Continuous-Time Models (2004)\n",
    "## Steven E. Shreve (570 pages)\n",
    "\n",
    "Volume II was developed to support three half-semester courses in the MSCF program.\n"
   ]
  },
  {
   "cell_type": "markdown",
   "metadata": {
    "slideshow": {
     "slide_type": "subslide"
    }
   },
   "source": [
    "<a id=\"index\"></a>\n",
    "# Index\n",
    "1.[General Probability Theory](#generalprobabilitytheory)\n",
    "\n",
    "2.[Information and Conditioning](#informationandconditioning)\n",
    "\n",
    "3.[Brownian Motion](#brownianmotion)\n",
    "\n",
    "[4.]()\n",
    "[5.]()\n",
    "[6.]()\n",
    "[7.]()\n",
    "\n",
    "8.[American Derivative Securities](#americanderivativesecurities)\n",
    "[]()\n",
    "[]()\n",
    "[]()\n",
    "[]()\n",
    "[]()\n",
    "[]()\n",
    "[]()\n",
    "[]()\n",
    "[]()\n",
    "[]()\n",
    "[]()\n",
    "[]()\n",
    "[]()\n"
   ]
  },
  {
   "cell_type": "markdown",
   "metadata": {
    "slideshow": {
     "slide_type": "slide"
    }
   },
   "source": [
    "<a id =\"generalprobabilitytheory\"></a>\n",
    "\n",
    "# 1. General Probability Theory\n",
    "\n",
    "[Back to Index](#index)\n",
    "\n",
    "\n",
    "\n",
    "   \n",
    "\n"
   ]
  },
  {
   "cell_type": "markdown",
   "metadata": {
    "slideshow": {
     "slide_type": "subslide"
    }
   },
   "source": [
    "## Definition 1.1.1: $\\sigma$-algebra\n",
    "\n",
    "Let $\\Omega$ be a nonempty set, and let $\\mathscr{F}$ be a collection of sub- sets of $\\Omega$. We say that $\\mathscr{F}$ is a $\\sigma$-algebra (called a $\\sigma$-field by some authors) provided that:\n",
    "1. $\\varnothing$ $\\in$ $\\mathscr{F}$,\n",
    "2. if any set $A$ belongs to $\\mathscr{F}$ , $\\in$ $A^C$  $\\mathscr{F}$,\n",
    "3. if a sequence of sets $A1,A2,...$ $\\in$ $\\mathscr{F}$, $\\bigcup\\limits_{i=1}^{\\infty} A_{i}$ $\\in$ $\\mathscr{F}$.\n",
    "\n",
    "\n",
    "$\\Omega$"
   ]
  },
  {
   "cell_type": "markdown",
   "metadata": {
    "slideshow": {
     "slide_type": "subslide"
    }
   },
   "source": [
    "## Definition 1.1.2. $\\mathbb{P}$robability Measure\n",
    "A probability measure $\\mathbb{P}$ is a function that, to every set $A \\in \\mathscr{F}$, assigns a number in $[0,1]$, called the probability of A and written $\\mathbb{P}(A)$. We require:\n",
    "\n",
    "1. $\\mathbb{P}(\\Omega)=1$\n",
    "2. $\\mathbb{P}(\\quad\\cdot\\!\\!\\!\\!\\!\\bigcup\\limits_{i=1}^{\\infty} A_{i})$=$\\sum\\limits_{i=1}^{\\infty}\\mathbb{P}(A_{i})$"
   ]
  },
  {
   "cell_type": "markdown",
   "metadata": {
    "slideshow": {
     "slide_type": "subslide"
    }
   },
   "source": [
    "The triple $(\\Omega,\\mathscr{F}, \\mathbb{P})$is called a probability space"
   ]
  },
  {
   "cell_type": "markdown",
   "metadata": {},
   "source": [
    "## Definition 1.1.5. \n",
    "\n",
    "Let $(\\Omega,\\mathscr{F}, \\mathbb{P})$ be a probability space. If a set $ A \\in \\mathscr{F}$ satisfies P(A) = 1,we say that the event A occurs almost surely."
   ]
  },
  {
   "cell_type": "markdown",
   "metadata": {
    "collapsed": true,
    "slideshow": {
     "slide_type": "subslide"
    }
   },
   "source": [
    "## Definition 1.2.1: Random Variable\n",
    "A random variable is a real-valued function  X defined on  Ω with the property that for every Borel subset B of  ℝ\n",
    " ,the subset of  Ω\n",
    "  given by  {X∈B}={w∈Ω:X(ω)∈B} is in the  σ-algebra  ℱ.\n",
    "  \n",
    "(We sometimes also permit a random variable to take the values  ∞ and - ∞)\n",
    "\n",
    "Ruben's Notes:\n",
    "\n",
    ". On the previous version (1997) it define a random variable as a function  f:Ω→ℝ\n",
    "\n",
    ". Borel  σ-algebra  ( ℛ): Smallest  σ-algebra containing all open intervals."
   ]
  },
  {
   "cell_type": "markdown",
   "metadata": {
    "slideshow": {
     "slide_type": "subslide"
    }
   },
   "source": [
    "## Definition 1.2.3. \n",
    "\n",
    "Let X be a random variable on a probability space $(\\Omega,\\mathscr{F}, \\mathbb{P})$. The distribution measure of X is the probability measure $\\mu_{x}$ that assigns to each B o d subset B of B the mass $\\mu_{x}(B) = P\\{X \\in B\\}$ (see Figure 1.2.1).\n",
    "\n",
    "Two different random variables can have the same distribution. A single random variable can have two different distributions.\n",
    "\n",
    "![title](fig121.png)\n",
    "\n"
   ]
  },
  {
   "cell_type": "markdown",
   "metadata": {
    "slideshow": {
     "slide_type": "subslide"
    }
   },
   "source": []
  },
  {
   "cell_type": "markdown",
   "metadata": {
    "slideshow": {
     "slide_type": "slide"
    }
   },
   "source": [
    "<a id =\"informationandconditioning\"></a>\n",
    "\n",
    "# 2. Information and Conditioning\n",
    "\n",
    "(pages 69 to 102)\n",
    "\n",
    "[Back to Index](#index)"
   ]
  },
  {
   "cell_type": "markdown",
   "metadata": {
    "slideshow": {
     "slide_type": "subslide"
    }
   },
   "source": [
    "## Definition 2.1.1. Filtration\n",
    "\n",
    "Let $\\Omega$ be a nonempty set. Let $T$ be a fixed positive number, and assume that for each $t \\in [O,T]$ there is a $\\sigma -algebra$ $\\mathscr{F_t}$ . Assume further that if $s <= t$, then every set in $\\mathscr{F}_s$ is also in $\\mathscr{F}_t$. Then we call the collection of $\\sigma -algebra$ $\\mathscr{F_t}$, $0<=t<=T$, a filtration.\n",
    "\n",
    "\n",
    "atoms (indivisible sets in the $\\sigma -algebra$)"
   ]
  },
  {
   "cell_type": "markdown",
   "metadata": {
    "collapsed": true,
    "slideshow": {
     "slide_type": "skip"
    }
   },
   "source": [
    "\n",
    "http://detexify.kirelabs.org/classify.html\n",
    "http://kile.sourceforge.net\n",
    "http://pandoc.org/MANUAL.html"
   ]
  },
  {
   "cell_type": "markdown",
   "metadata": {
    "slideshow": {
     "slide_type": "subslide"
    }
   },
   "source": [
    "## Definition 2.1.3.  $\\sigma-algebra$ generated by X\n",
    "Let X be a random variable defined on a nonemp ty sample space R. The $\\sigma-algebra$ generated by X , denoted $\\sigma(X)$, is the collection of all subsets of $\\mathbb{R}$ of the form $\\{X \\in B\\}$,$^3$ where $B$ ranges over the Borel subsets of $\\mathbb{R}$.\n",
    "\n",
    "(Note: Intuition: If we know that at time t the price is X, then we know all the paths that might have leads to that value. That set is called the sigma algebra generated by X)\n",
    "\n",
    "$^3$ Shorthand for  $\\{\\omega \\in \\Omega;X ( \\omega ) \\in B\\}$"
   ]
  },
  {
   "cell_type": "markdown",
   "metadata": {
    "slideshow": {
     "slide_type": "subslide"
    }
   },
   "source": [
    "## Definition 2.1.5. $\\mathscr{G}-measurable$ \n",
    "\n",
    "Let $X$ be a random variable defined on a nonempty sample space $\\Omega$. Let $\\mathscr{G}$ be a $\\sigma-algebra$ of subsets of $\\Omega$. If every set in $\\mathscr{G}(X)$ is also in $\\mathscr{G}$, we say that $X$ is $\\mathscr{G}-measurable$.\n",
    "\n",
    "\n",
    "Intuition: There is enough information in $\\mathscr{F_{2}}$ to determine the value of $S_2$ and even more. We say that $S_2$ is $\\mathscr{F_{2}}$-measurable."
   ]
  },
  {
   "cell_type": "markdown",
   "metadata": {
    "slideshow": {
     "slide_type": "subslide"
    }
   },
   "source": [
    "## Definition 2.1.6. adapted stochastic process $\\{X_t\\}$\n",
    "Let $\\Omega$ be a nonempty sample space equipped with a $\\mathscr{F(t)}$, $0<=t,=T$. Let X(t) be a collection of random variables indexed by $t \\in [0,T]$. We say this collection of random variables is an adapted stochastic\n",
    "process if, for each $t$, the random variable $X(t)$ is $\\mathscr{F(t)}$-measurable.\n",
    "\n",
    "The stochastic variable $X_t$ only depends on information available up to time t "
   ]
  },
  {
   "cell_type": "markdown",
   "metadata": {},
   "source": [
    "## Definition 2.2.1. Independence\n",
    "\n",
    "Let $(\\Omega,\\mathscr{F}, \\mathbb{P})$ be a probability space, and let 6 and 3.1 be sub-u-algebras of T (i.e., the sets in 6 and the sets in 3.1 are also in T). We say these two a-algebras are independent if\n",
    "P(AnB)=P(A).P(B)for allAE6, BE3.1\n",
    "\n",
    "Let X and Y be random variables on ($(\\Omega,\\mathscr{F}, \\mathbb{P})$. We say these two random variables are independent if the a-algebras they generate, a(X) and a(Y), are independent. We say that the random variable X is independent of the a-algebra 6 if a(X) and 6 are independent.\n"
   ]
  },
  {
   "cell_type": "markdown",
   "metadata": {},
   "source": [
    "## Definition2.2.3. Independence with more than 2 sub-sigma-algebras\n",
    "\n",
    "Let(O,3,P)beaprobabilityspaceandletGI,G2,G3,... be a sequence of sub-a-algebras of 3.For a j%ed positive integer n, we say that the n a-algebras G1, G2, ...,Gn are independent if\n",
    "P(A1n A 2 n . . . n A n )= P ( A l ) . P ( A , ) . . . . . P ( A n ) forallAlE&,A2 EG2,...,AnEGn-\n",
    "Let X1,X2,X3,... be a sequence of random variables on (0,3P,). Wesay the n random variables X1,X2,...,Xn are independent if the a-algebras a(X1), a(X2),...,a(X,) are independent. We say the full sequence of a-algebras GI,G2,G3,. .. is independent if, for every positive integer n, the n a-algebras 91,G2, ...,Gn are independent. W e say the full sequence of random variables X1,X2,X3,... is independent if, for every positive integer n, the n random variables X1,X2,...,Xn are independent."
   ]
  },
  {
   "cell_type": "markdown",
   "metadata": {},
   "source": [
    "## Theorem 2.2.5. Function of Independent rv are independent\n",
    "\n",
    "Let X and Y be independent random variables, and let f and g be Borel-measurable functions on R. Then f (X) and g(Y) are independent random variables."
   ]
  },
  {
   "cell_type": "markdown",
   "metadata": {},
   "source": [
    "## Definition 2.2.6. Joint distribution\n",
    "\n",
    "Let X and Y be random variables. The pair of random variables (X, Y) takes values in the plane B2, and the joint distribution mea- sureof (X,Y) isgiven by4\n",
    "pxsY(C)=P{(x,Y)EC)for allBore1setsCcP."
   ]
  },
  {
   "cell_type": "code",
   "execution_count": null,
   "metadata": {
    "collapsed": true
   },
   "outputs": [],
   "source": [
    "## Theorem 2.2.7. Let X and Y be random variables. The following conditions\n",
    "are equivalent."
   ]
  },
  {
   "cell_type": "markdown",
   "metadata": {},
   "source": [
    "## Definition 2.2.9. Definition of Variance\n",
    "Let X be a random variable whose expected value is defined. The variance of X, denoted Var(X), is\n",
    "Var(X) = E [(X - EX)*] ."
   ]
  },
  {
   "cell_type": "markdown",
   "metadata": {},
   "source": [
    "## Definition 2.2.11. Jointly Normal distribution\n",
    "\n",
    "Two random variables X and Y are said to be jointly normal if they have the joint density...\n"
   ]
  },
  {
   "cell_type": "markdown",
   "metadata": {
    "slideshow": {
     "slide_type": "slide"
    }
   },
   "source": [
    "## Definition 2.3.1. Conditional Expectation\n",
    "\n",
    "Let (0F,,P ) be a probability space, let G be a sub-a-algebra of F,and let X be a random variable that is either nonnegative or integrable. The conditional expectation of X given G, denoted $\\mathbb{E}[X|\\mathscr{G}]$, is any random variable that satisfies:\n",
    "\n",
    "1. (Measurability) $\\mathbb{E}[X|\\mathscr{G}]$ is $\\mathscr{G}$-measurable, and\n",
    "\n",
    "2. (Partial Averaging) $\\int_{A} \\mathbb{E}[X|\\mathscr{G}](\\omega) d\\mathbb{P}(\\omega)=\\int_{A} X(\\omega) d\\mathbb{P}(\\omega)$ for all $A \\in \\mathscr{G}$\n"
   ]
  },
  {
   "cell_type": "markdown",
   "metadata": {},
   "source": [
    "## Theorem 2.3.2. \n",
    "\n",
    "Let (R,F,P) be a probabilitg space and let B be a sub-0- algebra of F..."
   ]
  },
  {
   "cell_type": "markdown",
   "metadata": {},
   "source": [
    "## Lemma 2.3.4 (Independence). \n",
    "\n",
    "Let (0,3P),be a probability space, and let 6 be a sub-a-algebra of 3 . Suppose the random variables XI, ...,XK are G-measurable and the random variables Yl, ...,YL are independent of G. Let f(xl,...,XK, yl,...,yL)beafunction ofthedummyvariablesXI,...,XK and y1,...,y~, and define \n",
    "\n",
    "g(xl, ,XK)=Ef(~1, ,XK,Yl,.,YL)."
   ]
  },
  {
   "cell_type": "markdown",
   "metadata": {
    "slideshow": {
     "slide_type": "slide"
    }
   },
   "source": [
    "## Definition 2.3.5. Martingale\n",
    "\n",
    "Let (a,3 ,P) be a probability space, let T be a fued positive number, and let F(t), 0 5 t 5 T , be a filtration of sub-a-algebras of 3. Consider an adapted stochastic process M(t),05 t 5 T .\n",
    "6 ) If\n",
    "lE[M(t)lF(s)=] M(s)for all0<s5t5T,\n",
    "we say this process is a martingale. It has no tendency to rise or fall.\n",
    "                     (ii)If\n",
    "lE[M(t1)3(s)]2M(s)for all05s5t5T,\n",
    "   we say this process is a submartingale. It has no tendency to fall; it may have a tendency to rise.\n",
    "(i) If\n",
    "lE[M(tl)3(s)]5M(s)for all05s5t5T,\n",
    "we say this process is a supermartingale. It has no tendency to rise; it\n",
    "may have a tendency to fall."
   ]
  },
  {
   "cell_type": "markdown",
   "metadata": {
    "slideshow": {
     "slide_type": "slide"
    }
   },
   "source": [
    "## Definition 2.3.6. Markov Process\n",
    "\n",
    "Let (03, ,P) be aprobability space, letT be afied positive number, and let F(t),0 5 t 5 T , be a filtration of sub-a-algebras of 3. Consider an adapted stochastic process X ( t ) , 0 5 t 5 T . Assume that for all 05 s <t 5 T and for every nonnegative, Borel-measurable function f , there is another Borel-measurable function g such that\n",
    "Then we say that the X is a Markov process."
   ]
  },
  {
   "cell_type": "markdown",
   "metadata": {},
   "source": [
    "<a id =\"brownianmotion\"></a>\n",
    "\n",
    "# 3. Brownian Motion\n",
    "\n",
    "(pages  to )\n",
    "\n",
    "[Back to Index](#index)"
   ]
  },
  {
   "cell_type": "code",
   "execution_count": null,
   "metadata": {
    "collapsed": true
   },
   "outputs": [],
   "source": []
  }
 ],
 "metadata": {
  "celltoolbar": "Slideshow",
  "kernelspec": {
   "display_name": "Python [conda root]",
   "language": "python",
   "name": "conda-root-py"
  },
  "language_info": {
   "codemirror_mode": {
    "name": "ipython",
    "version": 3
   },
   "file_extension": ".py",
   "mimetype": "text/x-python",
   "name": "python",
   "nbconvert_exporter": "python",
   "pygments_lexer": "ipython3",
   "version": "3.6.0"
  }
 },
 "nbformat": 4,
 "nbformat_minor": 2
}
