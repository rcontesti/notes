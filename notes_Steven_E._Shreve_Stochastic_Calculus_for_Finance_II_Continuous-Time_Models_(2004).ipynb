{
 "cells": [
  {
   "cell_type": "markdown",
   "metadata": {
    "slideshow": {
     "slide_type": "slide"
    }
   },
   "source": [
    "# Stochastic Calculus for Finance II Continuous-Time Models (2004)\n",
    "## Steven E. Shreve (570 pages)\n",
    "\n",
    "Volume II was developed to support three half-semester courses in the MSCF program.\n",
    "\n",
    "http://detexify.kirelabs.org/classify.html"
   ]
  },
  {
   "cell_type": "markdown",
   "metadata": {
    "slideshow": {
     "slide_type": "subslide"
    }
   },
   "source": [
    "<a id=\"index\"></a>\n",
    "# Index\n",
    "1.[General Probability Theory](generalprobabilitytheory)\n",
    "[2.]()\n",
    "[3.]()\n",
    "[4.]()\n",
    "[5.]()\n",
    "[6.]()\n",
    "[7.]()\n",
    "\n",
    "8.[American Derivative Securities](#americanderivativesecurities)\n",
    "[]()\n",
    "[]()\n",
    "[]()\n",
    "[]()\n",
    "[]()\n",
    "[]()\n",
    "[]()\n",
    "[]()\n",
    "[]()\n",
    "[]()\n",
    "[]()\n",
    "[]()\n",
    "[]()\n"
   ]
  },
  {
   "cell_type": "markdown",
   "metadata": {
    "slideshow": {
     "slide_type": "slide"
    }
   },
   "source": [
    "<a id =\"generalprobabilitytheory\"></a>\n",
    "\n",
    "# 1. General Probability Theory\n",
    "\n",
    "[Back to Index](#index)\n",
    "\n",
    "\n",
    "\n",
    "   \n",
    "\n"
   ]
  },
  {
   "cell_type": "markdown",
   "metadata": {
    "slideshow": {
     "slide_type": "subslide"
    }
   },
   "source": [
    "## Definition 1.1.1: $\\sigma$-algebra\n",
    "\n",
    "Let $\\Omega$ be a nonempty set, and let $\\mathscr{F}$ be a collection of sub- sets of $\\Omega$. We say that $\\mathscr{F}$ is a $\\sigma$-algebra (called a $\\sigma$-field by some authors) provided that:\n",
    "1. $\\varnothing$ $\\in$ $\\mathscr{F}$,\n",
    "2. if any set $A$ belongs to $\\mathscr{F}$ , $\\in$ $A^C$  $\\mathscr{F}$,\n",
    "3. if a sequence of sets $A1,A2,...$ $\\in$ $\\mathscr{F}$, $\\bigcup\\limits_{i=1}^{\\infty} A_{i}$ $\\in$ $\\mathscr{F}$."
   ]
  },
  {
   "cell_type": "markdown",
   "metadata": {
    "slideshow": {
     "slide_type": "subslide"
    }
   },
   "source": [
    "## Definition 1.1.2. $\\mathbb{P}$robability Measure\n",
    "A probability measure $\\mathbb{P}$ is a function that, to every set $A \\in \\mathscr{F}$, assigns a number in $[0,1]$, called the probability of A and written $\\mathbb{P}(A)$. We require:\n",
    "\n",
    "1. $\\mathbb{P}(\\Omega)=1$\n",
    "2. $\\mathbb{P}(\\quad\\cdot\\!\\!\\!\\!\\!\\bigcup\\limits_{i=1}^{\\infty} A_{i})$=$\\sum\\limits_{i=1}^{\\infty}\\mathbb{P}(A_{i})$"
   ]
  },
  {
   "cell_type": "markdown",
   "metadata": {
    "slideshow": {
     "slide_type": "subslide"
    }
   },
   "source": [
    "The triple $(\\Omega,\\mathscr{F}, \\mathbb{P})$is called a probability space"
   ]
  },
  {
   "cell_type": "markdown",
   "metadata": {
    "collapsed": true,
    "slideshow": {
     "slide_type": "subslide"
    }
   },
   "source": [
    "## Definition 1.2.1: Random Variable\n",
    "A random variable is a real-valued function  X defined on  Ω with the property that for every Borel subset B of  ℝ\n",
    " ,the subset of  Ω\n",
    "  given by  {X∈B}={w∈Ω:X(ω)∈B} is in the  σ-algebra  ℱ.\n",
    "  \n",
    "(We sometimes also permit a random variable to take the values  ∞ and - ∞)\n",
    "\n",
    "Ruben's Notes:\n",
    "\n",
    ". On the previous version (1997) it define a random variable as a function  f:Ω→ℝ\n",
    "\n",
    ". Borel  σ-algebra  ( ℛ): Smallest  σ-algebra containing all open intervals."
   ]
  },
  {
   "cell_type": "code",
   "execution_count": null,
   "metadata": {
    "collapsed": true
   },
   "outputs": [],
   "source": []
  }
 ],
 "metadata": {
  "celltoolbar": "Slideshow",
  "kernelspec": {
   "display_name": "Python [conda root]",
   "language": "python",
   "name": "conda-root-py"
  },
  "language_info": {
   "codemirror_mode": {
    "name": "ipython",
    "version": 3
   },
   "file_extension": ".py",
   "mimetype": "text/x-python",
   "name": "python",
   "nbconvert_exporter": "python",
   "pygments_lexer": "ipython3",
   "version": "3.6.0"
  }
 },
 "nbformat": 4,
 "nbformat_minor": 2
}
