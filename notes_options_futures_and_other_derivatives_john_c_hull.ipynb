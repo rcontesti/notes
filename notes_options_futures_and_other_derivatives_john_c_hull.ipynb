{
 "cells": [
  {
   "cell_type": "markdown",
   "metadata": {},
   "source": [
    "<a id=\"index\"></a>\n",
    "# Hull\n",
    "\n",
    "[12. Wienner Processes and Itôs Lemma](#12)"
   ]
  },
  {
   "cell_type": "markdown",
   "metadata": {},
   "source": [
    "<a id=\"12\"></a>\n",
    "# 12. Wienner Processes and Itôs Lemma\n",
    "[Back to Index](#index)\n"
   ]
  },
  {
   "cell_type": "markdown",
   "metadata": {},
   "source": [
    "## Wienner Processes\n",
    "\n",
    "A variable z follows a wiener Process if:\n",
    "1. $\\Delta z=\\epsilon \\sqrt{\\Delta t}$ for $\\Delta t$ small and $\\epsilon \\sim N(0,1)$\n",
    "2. $\\Delta z$ for any two different $\\Delta t$ are independent.\n",
    "\n",
    "It follow that $\\Delta z \\sim N(0, \\Delta t)$\n",
    "\n",
    "## Generalized Winner Processes\n",
    "\n",
    "$$\n",
    "\\Delta x = a(x,t)\\Delta t+ b(x,t)\\epsilon \\sqrt{\\Delta t}\n",
    "$$\n",
    "\n",
    "where a and b are constants.\n",
    "\n",
    "It follow that $\\Delta x \\sim N(a \\Delta t, b^{2} \\Delta t)$"
   ]
  },
  {
   "cell_type": "markdown",
   "metadata": {},
   "source": [
    "## Itô Processes\n"
   ]
  },
  {
   "cell_type": "markdown",
   "metadata": {},
   "source": [
    "## Itô's Lemma"
   ]
  },
  {
   "cell_type": "markdown",
   "metadata": {},
   "source": [
    "## Aplication to Stocks"
   ]
  },
  {
   "cell_type": "markdown",
   "metadata": {},
   "source": [
    "## Generalized Taylor Expansion\n",
    "\n",
    "$$\n",
    "\\begin{align}\n",
    "T(x_1,\\ldots,x_d) &= \\sum_{n_1=0}^\\infty \\cdots \\sum_{n_d = 0}^\\infty  \\frac{(x_1-a_1)^{n_1}\\cdots (x_d-a_d)^{n_d}}{n_1!\\cdots n_d!}\\,\\left(\\frac{\\partial^{n_1 + \\cdots + n_d}f}{\\partial x_1^{n_1}\\cdots \\partial x_d^{n_d}}\\right)(a_1,\\ldots,a_d)\n",
    "\\end{align}\n",
    "$$"
   ]
  },
  {
   "cell_type": "markdown",
   "metadata": {},
   "source": [
    "## Using Taylor Expansion on $\\Delta G$\n",
    "We know that the function that $\\Delta G$ is $\\Delta G(x,t)$ so \n",
    "$$ \n",
    "\\Delta G = \n",
    "\\frac{\\partial G}{\\partial x} \\Delta x + \n",
    "\\frac{\\partial G}{\\partial t} \\Delta t+ \n",
    "\\frac{1}{2} \\frac{\\partial^{2} G}{\\partial x^{2}} \\Delta x^{2}+ \n",
    "\\frac{1}{2} \\frac{\\partial^{2} G}{\\partial t^{2}} \\Delta t^{2}+ \n",
    "\\frac{\\partial^{2} G}{\\partial t \\partial x} \\Delta t \\Delta x+...\n",
    "$$\n",
    "\n",
    "We also know that \n",
    "\n",
    "$$\n",
    "\\Delta x = a(x,t)\\Delta t+ b(x,t)\\epsilon \\sqrt{\\Delta t}\n",
    "$$\n",
    "\n",
    "that $\\Delta t^{2}$ terms can be ignored.\n",
    "Since the variance of $b^{2}\\epsilon^{2}\\Delta t$ is of order $\\Delta t^2$ we can treat it as non stochastic and equal to its expected value, $\\Delta t$. $\\Delta x^{2}=b^{2}\\epsilon^{2}\\Delta t=b^{2}\\Delta t$\n",
    "\n",
    "We obtain then\n",
    "\n",
    "$$ \n",
    "\\Delta G = (\n",
    "\\frac{\\partial G}{\\partial x} a+ \n",
    "\\frac{\\partial G}{\\partial t} + \n",
    "\\frac{1}{2} \\frac{\\partial^{2} G}{\\partial x^{2}} b^{2}) dt+ \n",
    "\\frac{\\partial G}{\\partial x} b dz\n",
    "$$\n"
   ]
  },
  {
   "cell_type": "code",
   "execution_count": null,
   "metadata": {
    "collapsed": true
   },
   "outputs": [],
   "source": []
  }
 ],
 "metadata": {
  "kernelspec": {
   "display_name": "Python [conda root]",
   "language": "python",
   "name": "conda-root-py"
  },
  "language_info": {
   "codemirror_mode": {
    "name": "ipython",
    "version": 3
   },
   "file_extension": ".py",
   "mimetype": "text/x-python",
   "name": "python",
   "nbconvert_exporter": "python",
   "pygments_lexer": "ipython3",
   "version": "3.6.0"
  }
 },
 "nbformat": 4,
 "nbformat_minor": 2
}
