{
 "cells": [
  {
   "cell_type": "markdown",
   "metadata": {
    "nbpresent": {
     "id": "d00d7882-e77a-4b86-9f5f-bea871a06c63"
    },
    "slideshow": {
     "slide_type": "slide"
    }
   },
   "source": [
    "# Stochastic Calculus for Finance II Continuous-Time Models (2004)\n",
    "## Steven E. Shreve (570 pages)\n",
    "\n",
    "Volume II was developed to support three half-semester courses in the MSCF program.\n",
    "\n",
    "###### Ruben Contesti\n"
   ]
  },
  {
   "cell_type": "markdown",
   "metadata": {
    "nbpresent": {
     "id": "2ab5f73d-4fc3-46c9-a147-cd318c2f9a85"
    },
    "slideshow": {
     "slide_type": "subslide"
    }
   },
   "source": [
    "<a id=\"index\"></a>\n",
    "# Index\n",
    "\n",
    "> 1.[General Probability Theory](#generalprobabilitytheory)\n",
    "\n",
    "> 2.[Information and Conditioning](#informationandconditioning)\n",
    "\n",
    "> 3.[Brownian Motion](#brownianmotion)\n",
    "\n",
    "> 4.[Stochastic Calculus](#stochasticcalculus)\n",
    "\n",
    "> 5.[Risk-Neutral Pricing](#riskneutralpricing)\n",
    "\n",
    "> 6.[Connections with Partial Differential Equation](#connectionswithdifferentialequations)\n",
    "\n",
    "> 7.[Exotic Options ](#exoticoptions)\n",
    "\n",
    "> 8.[American Derivative Securities](#americanderivativesecurities)\n",
    "\n",
    "> 9.[Change of Numeraire](#changeofnumeraire)\n",
    "\n",
    "> 10 [Term Structure Models](#termstructuremodels)\n",
    "\n",
    "> 11.[Introduction to Jump Processes](#introductiontojumpprocesses)\n"
   ]
  },
  {
   "cell_type": "markdown",
   "metadata": {
    "nbpresent": {
     "id": "04429cc1-87ce-40db-98af-7589edcb0ffb"
    },
    "slideshow": {
     "slide_type": "slide"
    }
   },
   "source": [
    "<a id =\"generalprobabilitytheory\"></a>\n",
    "-------------------------------------------\n",
    "\n",
    "# 1. General Probability Theory\n",
    "\n",
    "[Back to Index](#index)\n",
    "\n",
    "\n",
    "\n",
    "   \n",
    "\n"
   ]
  },
  {
   "cell_type": "markdown",
   "metadata": {
    "slideshow": {
     "slide_type": "subslide"
    }
   },
   "source": [
    ">1.1.1[Sigma-algebra](#111)\n",
    "\n",
    ">1.1.1[Probability Measure](#112)\n",
    "\n",
    ">1.2.1[Random Variable](#121)\n"
   ]
  },
  {
   "cell_type": "markdown",
   "metadata": {
    "nbpresent": {
     "id": "9e79c8f3-9159-4159-baa9-b34f9cb61db6"
    },
    "slideshow": {
     "slide_type": "subslide"
    }
   },
   "source": [
    "## Definition 1.1.1: $\\sigma$-algebra\n",
    "\n",
    "Let $\\Omega$ be a nonempty set, and let $\\mathscr{F}$ be a collection of sub- sets of $\\Omega$. We say that $\\mathscr{F}$ is a $\\sigma$-algebra (called a $\\sigma$-field by some authors) provided that:\n",
    "1. $\\varnothing$ $\\in$ $\\mathscr{F}$,\n",
    "2. if any set $A$ belongs to $\\mathscr{F}$ , $\\in$ $A^C$  $\\mathscr{F}$,\n",
    "3. if a sequence of sets $A1,A2,...$ $\\in$ $\\mathscr{F}$, $\\bigcup\\limits_{i=1}^{\\infty} A_{i}$ $\\in$ $\\mathscr{F}$.\n",
    "\n"
   ]
  },
  {
   "cell_type": "markdown",
   "metadata": {
    "nbpresent": {
     "id": "e89136fc-e209-4fd7-b275-a3db1f91e757"
    },
    "slideshow": {
     "slide_type": "subslide"
    }
   },
   "source": [
    "## Definition 1.1.2. $\\mathbb{P}$robability Measure\n",
    "A probability measure $\\mathbb{P}$ is a function that, to every set $A \\in \\mathscr{F}$, assigns a number in $[0,1]$, called the probability of A and written $\\mathbb{P}(A)$. We require:\n",
    "\n",
    "1. $\\mathbb{P}(\\Omega)=1$\n",
    "2. $\\mathbb{P}(\\quad\\cdot\\!\\!\\!\\!\\!\\bigcup\\limits_{i=1}^{\\infty} A_{i})$=$\\sum\\limits_{i=1}^{\\infty}\\mathbb{P}(A_{i})$"
   ]
  },
  {
   "cell_type": "markdown",
   "metadata": {
    "nbpresent": {
     "id": "01a4a91c-7c77-487a-915d-87988e65b261"
    },
    "slideshow": {
     "slide_type": "subslide"
    }
   },
   "source": [
    "The triple $(\\Omega,\\mathscr{F}, \\mathbb{P})$is called a probability space"
   ]
  },
  {
   "cell_type": "markdown",
   "metadata": {
    "nbpresent": {
     "id": "bec12554-a9e4-448a-96f5-852c92c2041e"
    },
    "slideshow": {
     "slide_type": "subslide"
    }
   },
   "source": [
    "## Definition 1.1.5. \n",
    "\n",
    "Let $(\\Omega,\\mathscr{F}, \\mathbb{P})$ be a probability space. If a set $ A \\in \\mathscr{F}$ satisfies P(A) = 1,we say that the event A occurs almost surely."
   ]
  },
  {
   "cell_type": "markdown",
   "metadata": {
    "collapsed": true,
    "nbpresent": {
     "id": "d21bc442-5d8f-4184-8294-e72a3f93565a"
    },
    "slideshow": {
     "slide_type": "subslide"
    }
   },
   "source": [
    "## Definition 1.2.1: Random Variable\n",
    "A random variable is a real-valued function  X defined on  Ω with the property that for every Borel subset B of  ℝ\n",
    " ,the subset of  Ω\n",
    "  given by  {X∈B}={w∈Ω:X(ω)∈B} is in the  σ-algebra  ℱ.\n",
    "  \n",
    "(We sometimes also permit a random variable to take the values  ∞ and - ∞)\n",
    "\n"
   ]
  },
  {
   "cell_type": "markdown",
   "metadata": {
    "slideshow": {
     "slide_type": "fragment"
    }
   },
   "source": [
    "Ruben's Notes:\n",
    "\n",
    "> On the previous version (1997) it define a random variable as a function  f:Ω→ℝ\n",
    "\n",
    "> Borel  σ-algebra  ( ℛ): Smallest  σ-algebra containing all open intervals."
   ]
  },
  {
   "cell_type": "markdown",
   "metadata": {
    "nbpresent": {
     "id": "8c43ef59-351b-4fe8-9a39-7a2c8f2523d6"
    },
    "slideshow": {
     "slide_type": "subslide"
    }
   },
   "source": [
    "## Definition 1.2.3. \n",
    "\n",
    "Let X be a random variable on a probability space $(\\Omega,\\mathscr{F}, \\mathbb{P})$. The distribution measure of X is the probability measure $\\mu_{x}$ that assigns to each B o d subset B of B the mass $\\mu_{x}(B) = P\\{X \\in B\\}$ (see [Figure 1.2.1](#fig121)).\n",
    "\n",
    "Two different random variables can have the same distribution. A single random variable can have two different distributions.\n",
    "\n",
    "\n",
    "\n"
   ]
  },
  {
   "cell_type": "markdown",
   "metadata": {
    "slideshow": {
     "slide_type": "subslide"
    }
   },
   "source": [
    "<a id=\"fig121\"></a>\n",
    "--------------------\n",
    "![title](fig121.png)"
   ]
  },
  {
   "cell_type": "markdown",
   "metadata": {
    "nbpresent": {
     "id": "49ed82e5-7774-4224-b4a8-7ea5cfa512cd"
    },
    "slideshow": {
     "slide_type": "slide"
    }
   },
   "source": [
    "<a id =\"informationandconditioning\"></a>\n",
    "--------------------------------------------\n",
    "\n",
    "\n",
    "# 2. Information and Conditioning\n",
    "\n",
    "(pages 69 to 102)\n",
    "\n",
    "[Back to Index](#index)"
   ]
  },
  {
   "cell_type": "markdown",
   "metadata": {
    "slideshow": {
     "slide_type": "subslide"
    }
   },
   "source": [
    "> 2.1.1 [Filtration](#211)\n",
    "    \n",
    "> 2.1.3 [Sigma Algebra](#213)\n",
    "    \n",
    "> 2.1.5 [Measurability](#215)\n",
    "\n",
    "> 2.1.6 [Adapted Stochastic Process](#216)\n",
    "    \n",
    "> 2.2.1 [Independence](#221)\n",
    "\n",
    "> 2.3.1 [Conditional Expectation](#231)\n",
    "    \n",
    "> 2.9.0 [Chapter Intuition/Summary](#chapter2intuition)    \n",
    "    \n",
    "\n",
    "    "
   ]
  },
  {
   "cell_type": "markdown",
   "metadata": {
    "nbpresent": {
     "id": "326b2ffa-1589-4fe5-b89f-875f6eedc3cb"
    },
    "slideshow": {
     "slide_type": "subslide"
    }
   },
   "source": [
    "<a id=\"211\"></a>\n",
    "----------------------\n",
    "\n",
    "## Definition 2.1.1. Filtration\n",
    "\n",
    "[Back to Chapter Index](#informationandconditioning#)\n",
    "\n",
    "Let $\\Omega$ be a nonempty set. Let $T$ be a fixed positive number, and assume that for each $t \\in [O,T]$ there is a $\\sigma -algebra$ $\\mathscr{F_t}$ . Assume further that if $s <= t$, then every set in $\\mathscr{F}_s$ is also in $\\mathscr{F}_t$. Then we call the collection of $\\sigma -algebra$ $\\mathscr{F_t}$, $0<=t<=T$, a filtration.\n",
    "\n",
    "\n",
    "atoms (indivisible sets in the $\\sigma -algebra$)"
   ]
  },
  {
   "cell_type": "markdown",
   "metadata": {
    "nbpresent": {
     "id": "c2770990-aaec-49f7-8e71-9836e852e10e"
    },
    "slideshow": {
     "slide_type": "subslide"
    }
   },
   "source": [
    "<a id=\"213\"></a>\n",
    "--------------------\n",
    "\n",
    "## Definition 2.1.3.  $\\sigma-algebra$ generated by X\n",
    "\n",
    "[Back to Chapter Index](#informationandconditioning#)\n",
    "Let X be a random variable defined on a nonemp ty sample space R. The $\\sigma-algebra$ generated by X , denoted $\\sigma(X)$, is the collection of all subsets of $\\mathbb{R}$ of the form $\\{X \\in B\\}$,$^3$ where $B$ ranges over the Borel subsets of $\\mathbb{R}$.\n",
    "\n",
    "(Note: Intuition: If we know that at time t the price is X, then we know all the paths that might have leads to that value. That set is called the sigma algebra generated by X)\n",
    "\n",
    "$^3$ Shorthand for  $\\{\\omega \\in \\Omega;X ( \\omega ) \\in B\\}$"
   ]
  },
  {
   "cell_type": "markdown",
   "metadata": {
    "nbpresent": {
     "id": "89daf97a-6d82-4994-ae8a-afa387b2255d"
    },
    "slideshow": {
     "slide_type": "subslide"
    }
   },
   "source": [
    "<a id=\"215\"></a>\n",
    "-------------------\n",
    "\n",
    "## Definition 2.1.5. $\\mathscr{G}-measurable$ \n",
    "\n",
    "[Back to Chapter Index](#informationandconditioning#)\n",
    "\n",
    "Let $X$ be a random variable defined on a nonempty sample space $\\Omega$. Let $\\mathscr{G}$ be a $\\sigma-algebra$ of subsets of $\\Omega$. If every set in $\\mathscr{G}(X)$ is also in $\\mathscr{G}$, we say that $X$ is $\\mathscr{G}-measurable$.\n",
    "\n",
    "\n",
    "Intuition: There is enough information in $\\mathscr{F_{2}}$ to determine the value of $S_2$ and even more. We say that $S_2$ is $\\mathscr{F_{2}}$-measurable."
   ]
  },
  {
   "cell_type": "markdown",
   "metadata": {
    "nbpresent": {
     "id": "a744fdb9-c5d7-403b-9478-518c5dcac34b"
    },
    "slideshow": {
     "slide_type": "subslide"
    }
   },
   "source": [
    "<a id=\"216\"></a>\n",
    "\n",
    "## Definition 2.1.6. adapted stochastic process $\\{X_t\\}$\n",
    "\n",
    "[Back to Chapter Index](#informationandconditioning#)\n",
    "\n",
    "Let $\\Omega$ be a nonempty sample space equipped with a $\\mathscr{F(t)}$, $0<=t,=T$. Let X(t) be a collection of random variables indexed by $t \\in [0,T]$. We say this collection of random variables is an adapted stochastic\n",
    "process if, for each $t$, the random variable $X(t)$ is $\\mathscr{F(t)}$-measurable.\n",
    "\n",
    "The stochastic variable $X_t$ only depends on information available up to time t "
   ]
  },
  {
   "cell_type": "markdown",
   "metadata": {
    "nbpresent": {
     "id": "ebaadfe7-967f-440b-9353-fdd1d9e476e7"
    },
    "slideshow": {
     "slide_type": "subslide"
    }
   },
   "source": [
    "<a id=\"221\"></a>\n",
    "\n",
    "## Definition 2.2.1. Independence\n",
    "\n",
    "[Back to Chapter Index](#informationandconditioning#)\n",
    "\n",
    "Let $(\\Omega,\\mathscr{F}, \\mathbb{P})$ be a probability space, and let 6 and 3.1 be sub-u-algebras of T (i.e., the sets in 6 and the sets in 3.1 are also in T). We say these two a-algebras are independent if\n",
    "P(AnB)=P(A).P(B)for allAE6, BE3.1\n",
    "\n",
    "Let X and Y be random variables on ($(\\Omega,\\mathscr{F}, \\mathbb{P})$. We say these two random variables are independent if the a-algebras they generate, a(X) and a(Y), are independent. We say that the random variable X is independent of the a-algebra 6 if a(X) and 6 are independent.\n"
   ]
  },
  {
   "cell_type": "markdown",
   "metadata": {
    "nbpresent": {
     "id": "2c77b4fa-4e25-41aa-9212-fd228ab00dc2"
    },
    "slideshow": {
     "slide_type": "subslide"
    }
   },
   "source": [
    "<a id=\"223\"></a>\n",
    "\n",
    "## Definition2.2.3. Independence with more than 2 sub-sigma-algebras\n",
    "\n",
    "\n",
    "[Back to Chapter Index](#informationandconditioning#)\n",
    "\n",
    "Let(O,3,P)beaprobabilityspaceandletGI,G2,G3,... be a sequence of sub-a-algebras of 3.For a j%ed positive integer n, we say that the n a-algebras G1, G2, ...,Gn are independent if\n",
    "P(A1n A 2 n . . . n A n )= P ( A l ) . P ( A , ) . . . . . P ( A n ) forallAlE&,A2 EG2,...,AnEGn-\n",
    "Let X1,X2,X3,... be a sequence of random variables on (0,3P,). Wesay the n random variables X1,X2,...,Xn are independent if the a-algebras a(X1), a(X2),...,a(X,) are independent. We say the full sequence of a-algebras GI,G2,G3,. .. is independent if, for every positive integer n, the n a-algebras 91,G2, ...,Gn are independent. W e say the full sequence of random variables X1,X2,X3,... is independent if, for every positive integer n, the n random variables X1,X2,...,Xn are independent."
   ]
  },
  {
   "cell_type": "markdown",
   "metadata": {
    "nbpresent": {
     "id": "557f63ab-5d0f-457d-9bf6-d98a8b36123a"
    },
    "slideshow": {
     "slide_type": "subslide"
    }
   },
   "source": [
    "<a id=\"225\"></a>\n",
    "\n",
    "## Theorem 2.2.5. Function of Independent rv are independent\n",
    "\n",
    "[Back to Chapter Index](#informationandconditioning#)\n",
    "\n",
    "Let X and Y be independent random variables, and let f and g be Borel-measurable functions on R. Then f (X) and g(Y) are independent random variables."
   ]
  },
  {
   "cell_type": "markdown",
   "metadata": {
    "nbpresent": {
     "id": "09dbbb80-2595-4d73-8cf5-e9d38c4b1564"
    },
    "slideshow": {
     "slide_type": "subslide"
    }
   },
   "source": [
    "<a id=\"226\"></a>\n",
    "\n",
    "## Definition 2.2.6. Joint distribution\n",
    "\n",
    "[Back to Chapter Index](#informationandconditioning#)\n",
    "\n",
    "Let X and Y be random variables. The pair of random variables (X, Y) takes values in the plane B2, and the joint distribution mea- sureof (X,Y) isgiven by4\n",
    "pxsY(C)=P{(x,Y)EC)for allBore1setsCcP."
   ]
  },
  {
   "cell_type": "markdown",
   "metadata": {
    "collapsed": true,
    "slideshow": {
     "slide_type": "subslide"
    }
   },
   "source": [
    "<a id=\"227\"></a>\n",
    "\n",
    "## Theorem 2.2.7. Let X and Y be random variables. The following conditions\n",
    "\n",
    "[Back to Chapter Index](#informationandconditioning#)\n",
    "are equivalent..."
   ]
  },
  {
   "cell_type": "markdown",
   "metadata": {
    "nbpresent": {
     "id": "856f7603-7394-4078-bb95-49e2eb6b82e1"
    },
    "slideshow": {
     "slide_type": "subslide"
    }
   },
   "source": [
    "<a id=\"229\"></a>\n",
    "\n",
    "## Definition 2.2.9. Definition of Variance\n",
    "\n",
    "[Back to Chapter Index](#informationandconditioning#)\n",
    "\n",
    "Let X be a random variable whose expected value is defined. The variance of X, denoted Var(X), is\n",
    "Var(X) = E [(X - EX)*] ."
   ]
  },
  {
   "cell_type": "markdown",
   "metadata": {
    "nbpresent": {
     "id": "dc90dfb5-2df5-4bb8-ae3b-e95e455833bb"
    },
    "slideshow": {
     "slide_type": "subslide"
    }
   },
   "source": [
    "<a id=\"2211\"></a>\n",
    "\n",
    "## Definition 2.2.11. Jointly Normal distribution\n",
    "\n",
    "[Back to Chapter Index](#informationandconditioning#)\n",
    "\n",
    "Two random variables X and Y are said to be jointly normal if they have the joint density...\n"
   ]
  },
  {
   "cell_type": "markdown",
   "metadata": {
    "nbpresent": {
     "id": "677843bf-de42-495e-ad64-b68b4fcbe27b"
    },
    "slideshow": {
     "slide_type": "subslide"
    }
   },
   "source": [
    "<a id=\"231\"></a>\n",
    "\n",
    "## Definition 2.3.1. Conditional Expectation\n",
    "\n",
    "\n",
    "[Back to Chapter Index](#informationandconditioning#)\n",
    "\n",
    "Let (0F,,P ) be a probability space, let G be a sub-a-algebra of F,and let X be a random variable that is either nonnegative or integrable. The conditional expectation of X given G, denoted $\\mathbb{E}[X|\\mathscr{G}]$, is any random variable that satisfies:\n",
    "\n",
    "1. (Measurability) $\\mathbb{E}[X|\\mathscr{G}]$ is $\\mathscr{G}$-measurable, and\n",
    "\n",
    "2. (Partial Averaging) $\\int_{A} \\mathbb{E}[X|\\mathscr{G}](\\omega) d\\mathbb{P}(\\omega)=\\int_{A} X(\\omega) d\\mathbb{P}(\\omega)$ for all $A \\in \\mathscr{G}$\n"
   ]
  },
  {
   "cell_type": "markdown",
   "metadata": {
    "nbpresent": {
     "id": "10cf0bd7-9f04-426e-b710-f82e7a19cf0e"
    },
    "slideshow": {
     "slide_type": "subslide"
    }
   },
   "source": [
    "<a id=\"232\"></a>\n",
    "\n",
    "## Theorem 2.3.2. \n",
    "\n",
    "[Back to Chapter Index](#informationandconditioning#)\n",
    "\n",
    "Let (R,F,P) be a probabilitg space and let B be a sub-0- algebra of F..."
   ]
  },
  {
   "cell_type": "markdown",
   "metadata": {
    "nbpresent": {
     "id": "597c1bb5-6edf-4fa7-b0a7-bd19b51702d2"
    },
    "slideshow": {
     "slide_type": "subslide"
    }
   },
   "source": [
    "\n",
    "<a id=\"234\"></a>\n",
    "\n",
    "## Lemma 2.3.4 (Independence). \n",
    "\n",
    "\n",
    "[Back to Chapter Index](#informationandconditioning#)\n",
    "\n",
    "Let (0,3P),be a probability space, and let 6 be a sub-a-algebra of 3 . Suppose the random variables XI, ...,XK are G-measurable and the random variables Yl, ...,YL are independent of G. Let f(xl,...,XK, yl,...,yL)beafunction ofthedummyvariablesXI,...,XK and y1,...,y~, and define \n",
    "\n",
    "g(xl, ,XK)=Ef(~1, ,XK,Yl,.,YL)."
   ]
  },
  {
   "cell_type": "markdown",
   "metadata": {
    "nbpresent": {
     "id": "5532c813-05e0-449a-833a-7e033344a894"
    },
    "slideshow": {
     "slide_type": "subslide"
    }
   },
   "source": [
    "<a id=\"235\"></a>\n",
    "\n",
    "## Definition 2.3.5. Martingale\n",
    "[Back to Chapter Index](#informationandconditioning#)\n",
    "\n",
    "Let $(\\Omega,\\mathscr{F},\\mathbb{P})$ be a probability space, let T be a fixed positive number, and let $\\mathscr{F}(t)$, $0<=t<=T$ , be a filtration of sub-$\\sigma$-algebras of $\\mathscr{F}$. Consider an adapted stochastic process $M(t),0<=t<=T$.\n",
    "\n",
    "1. Martingale:      $E[M(t)|\\mathscr{F}(s)]=M(s)$ \n",
    "2. Submartingale:   $E[M(t)|\\mathscr{F}(s)]>=M(s)$ \n",
    "3. Supermartingale: $E[M(t)|\\mathscr{F}(s)]<=M(s)$\n",
    "\n",
    "for all $0<=s<=t<=T$"
   ]
  },
  {
   "cell_type": "markdown",
   "metadata": {
    "nbpresent": {
     "id": "7d6d36d0-8aed-4477-92c6-a7b88027f8cd"
    },
    "slideshow": {
     "slide_type": "subslide"
    }
   },
   "source": [
    "<a id=\"236\"></a>\n",
    "\n",
    "## Definition 2.3.6. Markov Process\n",
    "\n",
    "[Back to Chapter Index](#informationandconditioning#)\n",
    "\n",
    "Let $(\\Omega,\\mathscr{F},\\mathbb{P})$ be aprobability space, let T be fixed positive number, and let $\\mathscr{F}(t)$, $0<=t<=T$, be a filtration of sub-$\\sigma$-algebras of $\\mathscr{F}$. Consider an adapted stochastic process $X ( t )$ , $0<=t<=T$. Assume that for all $0<=t<=T$ and for every nonnegative, Borel-measurable function $f$ , there is another Borel-measurable function $g$ such that\n",
    "\n",
    "\n",
    "**$E[f(X(t))|\\mathscr{F}(s)]=f(X(t))$**\n",
    "\n",
    "Then we say that the X is a Markov process."
   ]
  },
  {
   "cell_type": "markdown",
   "metadata": {
    "nbpresent": {
     "id": "f8cf6c35-b4f3-46d2-b6a5-05523b43f971"
    },
    "slideshow": {
     "slide_type": "subslide"
    }
   },
   "source": [
    "<a id=\"chapter2intuition\"><a>\n",
    "-----------------------------\n",
    "\n",
    "## 2.9 Intuition of Chapter 2\n",
    "\n",
    "[Back to Chapter Index](#informationandconditioning\")\n",
    "\n",
    "> . An experiment is performed from X, a random varible, and $\\omega$ is determined but not revealed.\n",
    "\n",
    "> . Instead for each set in the $\\sigma$-algebra $\\mathscr{G}$ we are told whether $\\omega$ belongs to that set or not.\n",
    "\n",
    "> . If the information in the $\\sigma$-algebra is enough to determine the value of $\\omega$, then X, the random variable is $\\mathscr{G}$-measurable.\n",
    "\n",
    "> .If the information in the $\\sigma$-algebra is irrelevant determine the value of $\\omega$, then X is independent of $\\mathscr{G}$"
   ]
  },
  {
   "cell_type": "markdown",
   "metadata": {
    "nbpresent": {
     "id": "918f8c87-06fa-4d68-8814-c03b2b697eb6"
    },
    "slideshow": {
     "slide_type": "slide"
    }
   },
   "source": [
    "<a id =\"brownianmotion\"></a>\n",
    "-----------------------------\n",
    "\n",
    "# 3. Brownian Motion\n",
    "\n",
    "(pages  83 to 123)\n",
    "\n",
    "[Back to Index](#index)"
   ]
  },
  {
   "cell_type": "markdown",
   "metadata": {
    "slideshow": {
     "slide_type": "subslide"
    }
   },
   "source": [
    "> 3.3.1 [Definition of Brownian Motion](#331)\n",
    "\n",
    "> 3.3.2 [Alternative characterizations of Brownian motion](#332)\n",
    "\n",
    "> 3.3.3. [Definition Filtration for a brownian motion](#333)\n",
    "\n",
    "> 3.4.1. [Quadratic Variation](#341)\n",
    "\n",
    "> 3.4.3. [Brownian motion](#341)\n",
    "\n",
    "> 3.4.3.2 [Volatility of a Geometric Brownian Motion](#3432)\n",
    "\n",
    "> [Intuition of Chapter 3](#intuition3)"
   ]
  },
  {
   "cell_type": "markdown",
   "metadata": {
    "nbpresent": {
     "id": "6cd6b3ba-c8f6-4d10-9ec4-03e243120629"
    },
    "slideshow": {
     "slide_type": "subslide"
    }
   },
   "source": [
    "<a id =\"331\"></a>\n",
    "## Definition 3.3.1  Brownian Motion\n",
    "\n",
    "Let $(\\Omega,\\mathscr{F},\\mathbb{P})$ be aprobability space, For each $\\omega \\in \\Omega$ supose there is a continuous function $W(t)$ of $t >0$ that satisfies $W(0) = 0$ and that depends on $\\Omega$. Then W(t), t >0, is a Brownian motion if for all $0=to<tl<..<t_m$, the increments \n",
    "\n",
    "$W(t_1)-W(t_0),W(t_2)-W(t_1),..., W(t_m)-W(t_{m-1})$\n",
    "\n",
    "are independent and each of these increments is normally distributed with\n",
    "\n",
    "$\\mathbb{E}[W(t_{i+1})-W(t_{i})]=0$\n",
    "\n",
    "$Var[W(t_{i+1})-W(t_{i})]=t_{i+1}-t_{i}$\n",
    "\n",
    "\n",
    "\n",
    "\n",
    "\n",
    "\n",
    "\n",
    "\n"
   ]
  },
  {
   "cell_type": "markdown",
   "metadata": {
    "slideshow": {
     "slide_type": "subslide"
    }
   },
   "source": [
    "<div style=\"background-color:rgba(0, 0, 0, 0.0470588); text-align:center; vertical-align: middle; padding:40px 0; margin-top:30px\">\n",
    "\n",
    "**Note: Where is this coming from?**\n",
    "</div>\n",
    "\n",
    "\n",
    "* Start with a coin toss of n steps in t intervals. Use $u=1+\\sigma/\\sqrt(n)$ and $d=1-\\sigma/\\sqrt(n)$\n",
    "\n",
    "\n",
    "* Take the expectation and variance.\n",
    "\n",
    "\n",
    "* Make n go to infinite: \"We toss the coin infinitely fast\""
   ]
  },
  {
   "cell_type": "markdown",
   "metadata": {
    "nbpresent": {
     "id": "275247d4-ec42-426a-8fc4-94ae7b11a675"
    },
    "slideshow": {
     "slide_type": "subslide"
    }
   },
   "source": [
    "<a id =\"332\"></a>\n",
    "## Theorem 3.3.2 (Alternative characterizations of Brownian motion)..."
   ]
  },
  {
   "cell_type": "markdown",
   "metadata": {
    "nbpresent": {
     "id": "1bfe34f3-764a-40cc-9025-b756626f60f3"
    },
    "slideshow": {
     "slide_type": "subslide"
    }
   },
   "source": [
    "## Definition 3.3.3. Filtration for a brownian motion\n",
    "\n",
    "Let $(\\Omega,\\mathscr{F},\\mathbb{P})$ be a probability space on which is defined a Brownian motion $W(t),t >= 0$. A filtration for the Brownian motion is a collection of $\\sigma$-algebras $\\mathscr{F}( t ) ,t >= 0$  , satisfying:\n",
    "\n",
    "1. For each $0<=s<t$, every set in $\\mathscr{F}( s )$ is also in $\\mathscr{F}( t )$. \n",
    "\n",
    "2. For each $t>=0$, the Brownian motion $W(t)$ at time t is $\\mathscr{F(t)}$-measurable. \n",
    "\n",
    "3. For For each $0<=t<u$, $W(u)- W(t)$ is independent of $\\mathscr{F(t)}$. \n",
    "\n"
   ]
  },
  {
   "cell_type": "markdown",
   "metadata": {
    "nbpresent": {
     "id": "3b9d122c-aee5-49eb-a19e-97fd3380a23c"
    },
    "slideshow": {
     "slide_type": "fragment"
    }
   },
   "source": [
    "Let $A(t),t >0$, be a stochastic process. We say that $A(t)$ is adapted to the\n",
    "filtration $\\mathscr{F}(t)$ if for each $t>=0$ the random variable $A(t)$ is $\\mathscr{F(t)}$-measurable. '"
   ]
  },
  {
   "cell_type": "markdown",
   "metadata": {
    "nbpresent": {
     "id": "88f1e9ed-b8d3-469b-adf3-3967deed8679"
    },
    "slideshow": {
     "slide_type": "fragment"
    }
   },
   "source": [
    "## Martingale Property of the Brownian Motion: \n",
    "\n",
    "> $E[W(t)|\\mathscr{F(s)}]=W(s)$ for 0=<s<t"
   ]
  },
  {
   "cell_type": "markdown",
   "metadata": {
    "collapsed": true,
    "nbpresent": {
     "id": "99493028-661c-47ca-b5c4-a8eb2120ebda"
    },
    "slideshow": {
     "slide_type": "subslide"
    }
   },
   "source": [
    "## Definition 3.4.1. Quadratic Variation \n",
    "\n",
    "Let $f ( t )$ be a function defined for $0<=t<=T$ . The quadratic variation of $f$ up to time T is \n",
    "\n",
    "$[f,f](T)=\\lim_{||\\Pi||\\rightarrow 0} \\sum_{j=0}^{n-1}[f(t_{j+1})-f(t_{j}]^2$\n",
    "\n",
    "where $||\\Pi|| ={t_0,t_1,...,t_n}$ and $0=t_o<t_l<...<t_n=T$.\n",
    "\n",
    "Intution: the cuadratic variation can be tought as an aproximation of the change in the curvature. For continuous functions this is 0 but the paths of the brownian motion are not differenciable\n"
   ]
  },
  {
   "cell_type": "markdown",
   "metadata": {
    "slideshow": {
     "slide_type": "subslide"
    }
   },
   "source": [
    "## Theorem 3.4.3. Let W be a Brownian motion. \n",
    "\n",
    "Then $[W,W](T) = T$ for all T >0 almost surely.\n",
    "\n",
    "We write informally $dW(t)dW(t) = dt$. \n",
    "\n",
    "But   $dW(t)dt=0, dtdt=0$.\n",
    "\n",
    "\n",
    "<div style=\"background-color:rgba(0, 0, 0, 0.0470588); text-align:center; vertical-align: middle; padding:40px 0; margin-top:30px\">\n",
    "Proof= Each step is indep of each other thus the variance is the sum of each variance. By [3.3.1](#331) each one is equal to its length.\n",
    "</div>"
   ]
  },
  {
   "cell_type": "markdown",
   "metadata": {
    "collapsed": true,
    "nbpresent": {
     "id": "8c5c2907-4385-4080-bae2-44de831e0ebf"
    },
    "slideshow": {
     "slide_type": "subslide"
    }
   },
   "source": [
    "## Volatility of a Geometric Brownian Motion\n",
    "\n",
    "$ S(t)=S(0)exp\\{\\sigma W(t)+(\\alpha -.5\\sigma^2)t\\}$\n",
    "\n",
    "Realized Volatility:= $\\frac{1}{T2-T1} \\sum_{j=0}^{m-1}(log(\\frac{S_(t_{j+1})}{S_(t_{j})})) \\~ \\sigma$"
   ]
  },
  {
   "cell_type": "markdown",
   "metadata": {
    "nbpresent": {
     "id": "c0a1208f-ef7f-4ff9-a40d-2ecf9ece35da"
    },
    "slideshow": {
     "slide_type": "subslide"
    }
   },
   "source": [
    "## Theorem 3.5.1 Markov Process\n",
    "\n",
    "Let $W(t)$, $t >= 0$, be a Brownian motion and let $\\mathscr{F}(t)$, t >=0, be a filtration for this Brownian motion (see Definition 3.3.3). Then $W(t)$, t >=0,is a Markov process."
   ]
  },
  {
   "cell_type": "markdown",
   "metadata": {
    "nbpresent": {
     "id": "3ac9c627-8e17-4bd1-94df-c0e7e1c38228"
    },
    "slideshow": {
     "slide_type": "subslide"
    }
   },
   "source": [
    "## Theorem 3.6.1 (Exponential martingale). \n",
    "Let $Z(t)=exp\\{\\sigma W(t)-.5^2 t\\}$\n",
    "\n",
    "Let W(t), t >0, be a Brownian motion with a filtration F(t), t => 0, and let a be a constant. The process Z(t), t => 0, of (3.6.1) is a martingale.\n"
   ]
  },
  {
   "cell_type": "markdown",
   "metadata": {
    "nbpresent": {
     "id": "46729075-623f-4c30-bbee-bbe092ecabe4"
    },
    "slideshow": {
     "slide_type": "subslide"
    }
   },
   "source": [
    "## TODO: Check This again !!!\n",
    "\n",
    "## First Passage Time\n",
    "\n",
    "Let m be a real number, and define the first passage time to level m\n",
    "$\\tau_m= min{t >0;W(t) = m}$.\n",
    "        \n",
    "If the Brownian motion never reaches the level m, we set $\\tau _m =\\infty $ .\n",
    "\n",
    "\n",
    "t $\\land$ Tm denotes the minimum of t and Tm\n",
    "\n",
    "##\n",
    "\n",
    "## Theorem 3.6.2. \n",
    "\n",
    "For $ m \\in \\mathbb{R}$, $\\tau_m$ is finite almost surely, and the Laplace transform of its distribution is given by\n",
    "$\\mathbb{E[e^{-\\alpha \\tau}]}=e^{-|m|\\sqrt{2\\alpha}}$ for all $\\alpha >0$."
   ]
  },
  {
   "cell_type": "markdown",
   "metadata": {
    "nbpresent": {
     "id": "5e98b3d1-66ec-4288-9f42-886841728bdf"
    },
    "slideshow": {
     "slide_type": "subslide"
    }
   },
   "source": [
    "## Theorem 3.7.1. First Passage Time distribution   \n",
    "\n",
    "For all $m \\notequal 0$,the random variable T, has cumulative distribution function\n",
    "     "
   ]
  },
  {
   "cell_type": "markdown",
   "metadata": {
    "nbpresent": {
     "id": "0e3acc71-fc80-4af6-a2e8-ddbf917bce5e"
    },
    "slideshow": {
     "slide_type": "subslide"
    }
   },
   "source": [
    "## 3.7.3 Maximun Date\n",
    "\n",
    "$M(t)= max_{0=<s<=t} W(s)$\n",
    "\n",
    "so we can rewrite\n",
    "\n",
    "$\\mathbb{P}\\{M(t)>=m,W(t)<=w\\}=\\mathbb{P}\\{W(t)>=2m -w\\}$ $w<=m, m>=0$\n",
    "\n",
    "## Theorem 3.7.3 Joint Density of $M(t), W(t)$\n",
    "\n",
    "$f_{M(t),W(t)}(m,w)=\\frac{2(2m-w)}{t\\sqrt{2\\pi t}}e^{-\\frac{(2m-w)^2}{2t}}$\n",
    "\n",
    "## Corollary 3.7.4 Conditional Expectation\n",
    "\n",
    "$f_{M(t)|W(t)}(m,w)=\\frac{2(2m-w)}{t}e^{-\\frac{(2m-w)}{t}}$"
   ]
  },
  {
   "cell_type": "markdown",
   "metadata": {
    "nbpresent": {
     "id": "c5cdaad0-8fd5-4392-9163-dc0951088a7d"
    },
    "slideshow": {
     "slide_type": "subslide"
    }
   },
   "source": [
    "<a id=\"intuition3\"></a>\n",
    "## Intuition of Chapter 3\n",
    "[Back to Beginning of Chapter](#brownianmotion)\n",
    "    \n",
    "> A brownin motion is both a martingale and a markov process. \n",
    "\n",
    "> Its most remarkable charateristic is that it accumulates quadratic variation at a rate 1 per unit of time."
   ]
  },
  {
   "cell_type": "markdown",
   "metadata": {
    "nbpresent": {
     "id": "8d60d46a-67c9-427b-85f8-588999095896"
    },
    "slideshow": {
     "slide_type": "slide"
    }
   },
   "source": [
    "<a id=\"stochasticcalculus\"></a>\n",
    "----------------------------\n",
    "## 4. Stochastic Calculus\n",
    "[Back to Index](#index)\n",
    "(pages 125 to 189)\n"
   ]
  },
  {
   "cell_type": "markdown",
   "metadata": {
    "slideshow": {
     "slide_type": "subslide"
    }
   },
   "source": [
    "> 4.0 [Motivation](#40)\n",
    "\n",
    "> 4.1 [Simple Process](#41)\n",
    "\n",
    "> 4.2 [Itô's Integral of a Simple Process](#42)\n",
    "\n",
    "> 4.3 [Itô's Integral in General](#43)\n",
    "\n",
    "> 4.4 [Itô's Formula](#44)\n",
    "\n",
    "> 4.5 [Black-Scholes-Merton](#45)\n",
    "\n",
    "> 4.6 [Multivariate Stochastic Calculus](#46)\n",
    "\n",
    "> 4.7 [Brownian Bridge](#45)\n",
    "\n",
    "> 4.8 [Chapter intuition/summary](#45)"
   ]
  },
  {
   "cell_type": "markdown",
   "metadata": {
    "slideshow": {
     "slide_type": "subslide"
    }
   },
   "source": [
    "<a id=\"40\"></a>\n",
    "\n",
    "--------------\n",
    "\n",
    "## 4.0 Motivation\n",
    "\n",
    "[Back to begining of Chapter](#stochasticcalculus)\n",
    "\n",
    "**Problem**: Since Brownian motion are not differentiable we have to work around the lebesgue integral.\n",
    "\n",
    "**Solution**: We first define the Itô integral for simple integrands and then extend it to nonsimple integrands as a limit of the integral of simple integrands."
   ]
  },
  {
   "cell_type": "markdown",
   "metadata": {
    "nbpresent": {
     "id": "2df1c0b3-688b-4880-876c-feb6a4dbe8f2"
    },
    "slideshow": {
     "slide_type": "subslide"
    }
   },
   "source": [
    "<a id=\"41\"></a>\n",
    "\n",
    "--------------\n",
    "\n",
    "\n",
    "## 4.1 Simple Process\n",
    "\n",
    "[Back to begining of Chapter](#stochasticcalculus)\n",
    "\n",
    "Let $| \\Pi | = \\{t_0,t_l,...,t_n\\}$ be a partition of $[0,T]$;i.e.,\n",
    "\n",
    "$0=t_o<t_l<...<t_n=T$\n",
    "\n",
    "Assume that $\\delta(t)$ is constant in t on each subinterval [tj,tj+1). Such a process $\\delta(t)$  is a simple process.\n",
    "\n"
   ]
  },
  {
   "cell_type": "markdown",
   "metadata": {
    "slideshow": {
     "slide_type": "subslide"
    }
   },
   "source": [
    "![title](fig421.png)"
   ]
  },
  {
   "cell_type": "markdown",
   "metadata": {
    "nbpresent": {
     "id": "bde99856-5b3b-4ff5-852a-090cebe81b1f"
    },
    "slideshow": {
     "slide_type": "subslide"
    }
   },
   "source": [
    "<a id=\"422\"></a>\n",
    "-------------\n",
    "## 4.2 Itô's Integral of a Simple Function\n",
    "[Back to begining of Chapter](#stochasticcalculus)\n",
    "\n",
    "In general if , $t_{k}<=t<=t_{k+1}$ then\n",
    "\n",
    "$I(t):=\\int_{0}^{t} \\Delta (t) dW(u)=\\sum_{j=0}^{k-1}\\Delta (tj) [W(t_{j+1})-W(t_{j})]+\\Delta (tk) [W(t)-W(t_{k})] $\n",
    "\n",
    "\n",
    "\n",
    "\n"
   ]
  },
  {
   "cell_type": "markdown",
   "metadata": {
    "slideshow": {
     "slide_type": "subslide"
    }
   },
   "source": [
    "## Properties of the Itô's Integral\n",
    "\n",
    "1. $I(t)$ is a Martingale\n",
    "2. $\\mathbb{E} I^2(dt)=\\mathbb{E}\\int_{0}^{t}\\Delta^2(u)du$ \n",
    "3. $[I,I](t)=\\int_{0}^{t}\\Delta^2(u)du$ \n"
   ]
  },
  {
   "cell_type": "markdown",
   "metadata": {
    "slideshow": {
     "slide_type": "subslide"
    }
   },
   "source": [
    "\n",
    "Note:  \n",
    "> Intuition $dWdW=dt, DWdt=0, DWjDWi=0$\n",
    "\n",
    "Note: \n",
    "\n",
    "> 2 (Variance) and 3 (Quadratic Variation) can diverge hugely.\n",
    "\n",
    "> (3) is computed path by path and thus can diverge. The quadratic variation can be regarded as a measure of risk, and it depends on the size of the positions we take.  \n",
    "\n",
    "> (2) is like and average across all this paths.\n",
    "\n",
    "Note: \n",
    "\n",
    "> Also note Variance is not the empirical variance. Empirical (or sample) variance is computed from a realized path and\n",
    "> $dI(t) = d\\Delta(t) dW(t)$ is equivalent to $I(t)=\\int_{0}^{t} \\Delta (t) dW(u)$\n",
    "\n"
   ]
  },
  {
   "cell_type": "markdown",
   "metadata": {
    "nbpresent": {
     "id": "4774b4b3-4f3f-419f-958f-d38a8c1b6a43"
    },
    "slideshow": {
     "slide_type": "subslide"
    }
   },
   "source": [
    "<a id=\"43\"></a>\n",
    "\n",
    "# 4.3 Itô's Integral of General Processes: \n",
    "[Chapter Index](#stochasticcalculus)\n",
    "\n",
    "$\\Delta(t)$ that are allowed to vary continuously with time and also to jump.\n",
    "\n",
    "\n",
    "\n",
    "We do assume that $\\Delta(t),t >=0$, is adapted to the filtration $\\mathscr{F}(t)$,t>=0.\n",
    "We also assume the square-integrability condition $\\mathbb{E}\\int_{0}^{t}\\Delta^2(u)du < \\infty$ (4.3.1)\n",
    "\n",
    "$I(t):= \\int_{0}^{t} \\Delta (t) dW(u)=\\lim_{n\\rightarrow \\infty} \\int_{0}^{t} \\Delta _n (t) dW(u)$ (4.3.3) where $\\Delta _n (t)$  is a sequence of simple functions and $n$ the number of partitions it has.\n",
    "\n",
    "\n",
    "This integral inherits the properties of It6 integrals of simple processes. We summarize these in the next theorem.\n",
    "\n",
    "\n"
   ]
  },
  {
   "cell_type": "markdown",
   "metadata": {
    "slideshow": {
     "slide_type": "subslide"
    }
   },
   "source": [
    "## Theorem 4.3.1. Properties\n",
    "\n",
    "Let T be a positive constant and let $\\Delta(t),t >=0$ , be an adapted stochastic process that satisfies (4.3.1). Then \n",
    "\n",
    "$ I(t):=\\int _{0}^{t} \\Delta (t) dW(u)$ defined by (4.3.3) has the following properties.\n",
    "\n",
    "1. (Continuity) As a function of the upper limit of integration t, the paths of $I(t)$ are continuous.\n",
    "2. (Adaptivity) For each t, I ( t ) is $\\mathscr{F}(t)$-measurable.\n",
    "3. (Linearity) If $I(t)\\equiv \\int_{0}^{t} \\Delta (t) dW(u) $ and $J(t)\\equiv \\int_{0}^{t} \\Gamma (t) dW(u) $,then\n",
    "$I(t)\\pm J(t)=\\int_{0}^{t} (\\Delta (t) \\pm \\Gamma (t)) dW(u)$; and, $\\forall$ const. c, $cI(t)=\\int_{0}^{t} c \\Delta (t) dW(u) $.\n",
    "4. (Martingale) $I ( t )$ is a martingale.\n",
    "5. (Itô isometry) $I^2(dt)=\\mathbb{E}\\int_{0}^{t}\\Delta^2(u)du$ \n",
    "6. (Quadratic variation) $[I,I](t)=\\int_{0}^{t}\\Delta^2(u)du$"
   ]
  },
  {
   "cell_type": "markdown",
   "metadata": {
    "nbpresent": {
     "id": "14d13708-e9d5-4cb1-915b-c1c60c986101"
    },
    "slideshow": {
     "slide_type": "subslide"
    }
   },
   "source": [
    "<a id=\"44\"></a>\n",
    "---------------\n",
    "\n",
    "## 4.4 Itô'Doeblin Formula: \n",
    "[Chapter Index](#stochasticcalculus)\n",
    "\n",
    "*Idea: rule to \"differentiate\" expressions of the form f (W(t)), where f (x) is a differentiable function and W(t) is a Brownian motion.*\n",
    "\n",
    "Because W(t) has non zero quadratic variations the rule of chain has an extra term. Recall also that higher orders and cross terms are zero.[See here](#422)\n",
    "\n",
    "\n",
    "$d(f(W(t)))=f'(W(t))dW(t)+\\frac{1}{2}f''(W(t))$\n",
    "\n",
    "\n",
    "\n",
    "\n",
    "\n",
    "\n",
    "\n",
    "\n",
    "\n",
    "\n",
    "\n",
    "\n"
   ]
  },
  {
   "cell_type": "markdown",
   "metadata": {
    "slideshow": {
     "slide_type": "subslide"
    }
   },
   "source": [
    "<a id=\"441\"></a>\n",
    "---------------\n",
    "## Theorem 4.4.1 (Itô's Doeblin formula for Brownian motion).\n",
    "[Chapter Index](#stochasticcalculus)\n",
    "\n",
    "Let $f(t,x)$ be a function for which the partial derivatives $f_t(t,x)$, $fx (t,x)$, and $f_{xx}(t, x)$ are defined and continuous, and let W(t) be a Brownian motion.\n",
    "\n",
    "Then, for every T >= 0,\n",
    "\n",
    "$f(T, W(t))=f(0, W(0))+ \\int_{0}^{T}f_t(t,W(t))dt + \\int_{0}^{T}f_x(t, W(t))dW(t) + \\frac{1}{2}\\int_{0}^{T}f_{xx}(t, W(t))dW(t)$"
   ]
  },
  {
   "cell_type": "markdown",
   "metadata": {
    "slideshow": {
     "slide_type": "subslide"
    }
   },
   "source": [
    "<a id=\"443\"></a>\n",
    "---------------\n",
    "## Definition 4.4.3. Itô's Process\n",
    "[Chapter Index](#stochasticcalculus)\n",
    "\n",
    "Let W(t),t 3 0, be a Brownian motion, and let $\\mathscr{F}$, $t\\geq0,$ be an associated filtration. An Itô process is a stochastic process of the \n",
    "\n",
    "$X(t)=X(0)+ \\int_{0}^{T}\\Delta (u)dW(u)  + \\int_{0}^{T}\\Theta(u)du$\n",
    "\n",
    "where $X(0)$ is nonrandom and $\\Delta (u)$ and $\\Theta (u)$ are adapted stochastic proceses. $[X,X](t)=\\int_{0}^{t}\\Delta^2(u)du$"
   ]
  },
  {
   "cell_type": "markdown",
   "metadata": {
    "slideshow": {
     "slide_type": "subslide"
    }
   },
   "source": [
    "<a id=\"445\"></a>\n",
    "---------------\n",
    "## Definition 4.4.5.  Itô's Integral\n",
    "[Chapter Index](#stochasticcalculus)\n",
    "\n",
    "Let $X(t)$, $t \\geq 0$, be an Itô process as described in Definition [4.4.3](#443),and let $\\Gamma(t)$, $t \\geq 0$,be an adapted process. We define the integral with respect to an IItô process.\n",
    "\n",
    "$\\int_{0}^{t}\\Gamma(u)dX(u)=\\int_{0}^{t}\\Gamma(u)\\Delta(u)dW(u)+\\int_{0}^{t}\\Gamma(u)\\Theta(u)du$"
   ]
  },
  {
   "cell_type": "markdown",
   "metadata": {
    "slideshow": {
     "slide_type": "subslide"
    }
   },
   "source": [
    "<a id=\"446\"></a>\n",
    "---------------\n",
    "## Theorem 4.4.6 (Itô-Doeblin formula for an Itô process). \n",
    "[Chapter Index](#stochasticcalculus)\n",
    "\n",
    "Let X (t) , t >= 0, be an Itô process as described in Definition [4.4.3](#443), and let $f(t,x )$ be a function for which the partial derivatives $f_t( t ,x )$ , f_x( t ,x ) , and f_{xx}( t ,x ) are defined and continuous. Then, for every T >0,\n",
    "\n",
    "$ f(t,X(t))=f(0,X(0))+\\int_{0}^{t}f_t(t,X(t))dt+\\int_{0}^{t}f_x(t,X(t))dX(t)+\\frac{1}{2}f_{xx}(t,X(t))d[X,X](t)$\n",
    "\n",
    "$ f(t,X(t))=f(0,X(0))+\\int_{0}^{t}f_t(t,X(t))dt+\\int_{0}^{t}f_x(t,X(t))\\Delta(t)dW(t)+\\int_{0}^{t}f_x(t,X(t))\\Theta(t)dt+\\frac{1}{2}f_{xx}(t,X(t))\\Delta^2(t)dt$\n",
    "\n",
    "<a id=\"447\"></a>\n",
    "In differential notation:\n",
    "\n",
    "$ df(t,X(t))=f_t(t,X(t))dt+f_x(t,X(t))\\Delta(t)dX(t)+\\frac{1}{2}f_{xx}(t,X(t))dX(t)dX(t)$ [4.4.2.3](#4423)\n",
    "\n",
    "$ df(t,X(t))=f_t(t,X(t))dt+f_x(t,X(t))\\Delta(t)dW(t)+f_x(t,X(t))\\Theta(t)dW(t)+\\frac{1}{2}f_{xx}(t,X(t))\\Delta^2(t)dt$ [4.4.2.4](#4424)"
   ]
  },
  {
   "cell_type": "markdown",
   "metadata": {
    "slideshow": {
     "slide_type": "subslide"
    }
   },
   "source": [
    "<a id=\"449\"></a>\n",
    "---------------\n",
    "## Theorem 4.4.9 (It6 integral of a deterministic integrand). \n",
    "[Chapter Index](#stochasticcalculus)\n",
    "\n",
    "Let $W(s)$, $s \\geq 0$, be a Brownian motion, and let $\\Delta(s)$ be a nonrandom function of time.\n",
    "Define $I(t) =\\int_{0}^{t} \\Delta(s)dW(s)$. For each $t \\geq 0$, the random variable $I(t)$ is normally distributed with expected value zero and variance $\\int_{0}^{t} \\Delta^2(s)ds$"
   ]
  },
  {
   "cell_type": "markdown",
   "metadata": {
    "slideshow": {
     "slide_type": "subslide"
    }
   },
   "source": [
    "<a id=\"45\"></a>\n",
    "---------------\n",
    "## 4.5 Black Scholes Merton Equation \n",
    "[Chapter Index](#stochasticcalculus)"
   ]
  },
  {
   "cell_type": "markdown",
   "metadata": {
    "slideshow": {
     "slide_type": "subslide"
    }
   },
   "source": [
    "<a id=\"451\"></a>\n",
    "---------------\n",
    "## 4.5.1 Evolution of Portfolio\n",
    "[Chapter Index](#stochasticcalculus)\n",
    "    \n",
    ". $X$:=Value of the Portfolio\n",
    "\n",
    ". S:=Value of the Stock with process $dS(t)=\\alpha S(t)dt+\\sigma S(t)dW(t)$\n",
    "\n",
    ". $\\Delta$: Number of stocks S in the portfolio\n",
    "\n",
    ". $X-\\Delta$ S:= value invested at the risk free rate $r$\n",
    "\n",
    "________________________________\n",
    "\n",
    "\n",
    "$dX(t)=\\Delta (t)dS(t) +r(X(t)-\\Delta (t)dS(t))dt$\n",
    "\n",
    "$dX(t)=rX(t)+\\Delta (t)(\\alpha-r)dS(t)+r(X(t)-\\Delta (t)\\sigma dS(t))dW(t)$\n",
    "\n",
    "\n",
    "$d(e^{rt}X(t))=\\Delta (t) d(e^{rt}S(t))$ [link to pen note](#pennote451)\n",
    "\n",
    "\n",
    "________________________________\n",
    "\n",
    "### Black-Scholes Receipe\n",
    "1. Calculate $d(e^{rt}X(t))$ and $d(e^{rt}C(t))$ using Itô-Dublin formula [4.4.6](#446)\n",
    "2. Equate $e^{rt}X(t)$ and $e^{rt}C(t) $ them and infer that it implies that $d(e^{rt}X(t))$ and $d(e^{rt}C(t))$\n",
    "3. Equate those terms that contain $dW(t)$ and $dt$ leading to:\n",
    "    1. $\\Delta=c_s$\n",
    "    2. $c_t+rSc_s+\\frac{1}{2}\\sigma^2 S^2 c_{ss}$ [4.5.14] <a id=\"4514\"></a>\n",
    "4. Find the solution to B with terminal condition $C(T,S(T))=(S(T)-K)^+$ and boundary condition $C(t,0)=0$ and $C(t,\\infty)=S$. See Section [5.2.5](#525) for a probabilistic Solution.\n",
    "\n",
    "5. Solution: \n",
    "    \n",
    "    $C(t,S(t))=S(t)N(d_+(T-t,S(t)))-Ke^{-r(T-t)}N(d_-(T-t,S(t)))$\n",
    "    \n",
    "    $d_{\\textpm}(\\tau)=frac{1}{\\sigma \\sqrt(\\tau)}[log\\frac{S}{K}+(r\\textpm\\frac{\\sigma^2}{2})\\tau]$\n",
    "\n",
    "> Note: The Black-Scholes-Merton equation [(4.5.14)](#4514) does not involve probability. It is a partial differential equation, and the arguments t and x are dummy variables, not random variables. One can solve it by partial differential equation methods. \n",
    "\n",
    "\n"
   ]
  },
  {
   "cell_type": "markdown",
   "metadata": {
    "slideshow": {
     "slide_type": "subslide"
    }
   },
   "source": [
    "<a id=\"455\"></a>\n",
    "---------------\n",
    "## 4.5.5 Greeks\n",
    "[Chapter Index](#stochasticcalculus)\n",
    "    \n",
    "Nothing new or fancy."
   ]
  },
  {
   "cell_type": "markdown",
   "metadata": {
    "collapsed": true,
    "slideshow": {
     "slide_type": "subslide"
    }
   },
   "source": [
    "<a id=\"456\"></a>\n",
    "---------------\n",
    "## 4.5.6 Put-Call Parity\n",
    "[Chapter Index](#stochasticcalculus)\n",
    "    \n",
    "Nothing new or fancy. Check Hull."
   ]
  },
  {
   "cell_type": "markdown",
   "metadata": {
    "slideshow": {
     "slide_type": "subslide"
    }
   },
   "source": [
    "<a id=\"46\"></a>\n",
    "---------------\n",
    "## 4.6 Multivariate Stochastic Calculus\n",
    "[Chapter Index](#stochasticcalculus)\n",
    "\n",
    "\n",
    "\n"
   ]
  },
  {
   "cell_type": "markdown",
   "metadata": {
    "collapsed": true,
    "slideshow": {
     "slide_type": "slide"
    }
   },
   "source": [
    "## Excersices/Examples to check\n",
    "\n",
    "> 3.3.1 Higher order Terms are zero\n",
    "\n",
    "> 4.4.3 Generalized Geometric Brownian Motion (Page 147)\n",
    "\n",
    "> 4.4.10 Vacicek Model (Page 150)\n"
   ]
  },
  {
   "cell_type": "markdown",
   "metadata": {
    "collapsed": true,
    "nbpresent": {
     "id": "03e05164-158b-44f9-be89-58e3e01bd76f"
    },
    "slideshow": {
     "slide_type": "skip"
    }
   },
   "source": [
    "\n",
    "http://detexify.kirelabs.org/classify.html\n",
    "http://kile.sourceforge.net\n",
    "http://pandoc.org/MANUAL.html"
   ]
  },
  {
   "cell_type": "markdown",
   "metadata": {
    "slideshow": {
     "slide_type": "skip"
    }
   },
   "source": [
    "<a href=\"#preslink\">preslink</a>\n",
    "\n",
    "# Preslink\n",
    "\n",
    "[Back to Index](#index)"
   ]
  },
  {
   "cell_type": "markdown",
   "metadata": {
    "slideshow": {
     "slide_type": "skip"
    }
   },
   "source": [
    "[preslink](#preslink)"
   ]
  },
  {
   "cell_type": "code",
   "execution_count": null,
   "metadata": {
    "collapsed": true,
    "slideshow": {
     "slide_type": "skip"
    }
   },
   "outputs": [],
   "source": []
  }
 ],
 "metadata": {
  "celltoolbar": "Slideshow",
  "kernelspec": {
   "display_name": "Python [conda root]",
   "language": "python",
   "name": "conda-root-py"
  },
  "language_info": {
   "codemirror_mode": {
    "name": "ipython",
    "version": 3
   },
   "file_extension": ".py",
   "mimetype": "text/x-python",
   "name": "python",
   "nbconvert_exporter": "python",
   "pygments_lexer": "ipython3",
   "version": "3.6.0"
  },
  "nbpresent": {
   "slides": {
    "08bb44d4-b7ca-4f73-a27b-f978ba75b304": {
     "id": "08bb44d4-b7ca-4f73-a27b-f978ba75b304",
     "prev": "69e9b2d5-fff4-4b0c-bc86-f22de58ccfd8",
     "regions": {
      "12390282-f666-4b71-afdb-495d0115788d": {
       "attrs": {
        "height": 0.8,
        "width": 0.8,
        "x": 0.1,
        "y": 0.1
       },
       "content": {
        "cell": "9e79c8f3-9159-4159-baa9-b34f9cb61db6",
        "part": "whole"
       },
       "id": "12390282-f666-4b71-afdb-495d0115788d"
      }
     }
    },
    "146300df-c4f6-4d93-bc81-ea00ca6b9fed": {
     "id": "146300df-c4f6-4d93-bc81-ea00ca6b9fed",
     "prev": "752ca7e2-2dc3-43a6-83ee-2b3970ff7666",
     "regions": {
      "2f6728b7-a256-4ae1-a91b-c4d110995b61": {
       "attrs": {
        "height": 0.8,
        "width": 0.8,
        "x": 0.1,
        "y": 0.1
       },
       "content": {
        "cell": "09dbbb80-2595-4d73-8cf5-e9d38c4b1564",
        "part": "whole"
       },
       "id": "2f6728b7-a256-4ae1-a91b-c4d110995b61"
      }
     }
    },
    "161af1be-aade-475e-b4a9-63cff81d7f08": {
     "id": "161af1be-aade-475e-b4a9-63cff81d7f08",
     "prev": "146300df-c4f6-4d93-bc81-ea00ca6b9fed",
     "regions": {
      "d3874e9f-912f-4080-ae01-946d04aded33": {
       "attrs": {
        "height": 0.8,
        "width": 0.8,
        "x": 0.1,
        "y": 0.1
       },
       "content": {
        "cell": "52baebb2-7391-429b-9fd8-8fd39e1b814c",
        "part": "whole"
       },
       "id": "d3874e9f-912f-4080-ae01-946d04aded33"
      }
     }
    },
    "1f646257-3146-482a-83e8-3f0c09b8c9d5": {
     "id": "1f646257-3146-482a-83e8-3f0c09b8c9d5",
     "prev": "d816b347-f9e7-4de1-99ed-45be33677d10",
     "regions": {
      "54dff9bd-8b77-4d63-b107-2fd379e8b844": {
       "attrs": {
        "height": 0.8,
        "width": 0.8,
        "x": 0.1,
        "y": 0.1
       },
       "content": {
        "cell": "2df1c0b3-688b-4880-876c-feb6a4dbe8f2",
        "part": "whole"
       },
       "id": "54dff9bd-8b77-4d63-b107-2fd379e8b844"
      }
     }
    },
    "1feeb37e-3431-4e66-ba60-98ee075b4207": {
     "id": "1feeb37e-3431-4e66-ba60-98ee075b4207",
     "prev": "41c11f90-57c0-4479-9812-6bf369d74b84",
     "regions": {
      "3feb1292-0895-485e-8e71-8c5313729f12": {
       "attrs": {
        "height": 0.8,
        "width": 0.8,
        "x": 0.1,
        "y": 0.1
       },
       "content": {
        "cell": "10cf0bd7-9f04-426e-b710-f82e7a19cf0e",
        "part": "whole"
       },
       "id": "3feb1292-0895-485e-8e71-8c5313729f12"
      }
     }
    },
    "2336abbe-1609-4baf-9ce9-a3514fb9d345": {
     "id": "2336abbe-1609-4baf-9ce9-a3514fb9d345",
     "prev": "d3172d4c-7d19-4a29-a264-f9d3ae5db563",
     "regions": {
      "e9a5f6b5-8122-4cde-b1cd-2f81f6d73886": {
       "attrs": {
        "height": 0.8,
        "width": 0.8,
        "x": 0.1,
        "y": 0.1
       },
       "content": {
        "cell": "14d13708-e9d5-4cb1-915b-c1c60c986101",
        "part": "whole"
       },
       "id": "e9a5f6b5-8122-4cde-b1cd-2f81f6d73886"
      }
     }
    },
    "2983e341-9aa1-4ca3-a4ba-7b03b2b8038c": {
     "id": "2983e341-9aa1-4ca3-a4ba-7b03b2b8038c",
     "prev": "2f37c0be-0669-40e2-9c14-d807eff4d361",
     "regions": {
      "b9452b55-f20c-470c-b48a-b6fe2769f858": {
       "attrs": {
        "height": 0.8,
        "width": 0.8,
        "x": 0.1,
        "y": 0.1
       },
       "content": {
        "cell": "6a3164e0-eafd-4ca0-950c-a6c2063490b3",
        "part": "whole"
       },
       "id": "b9452b55-f20c-470c-b48a-b6fe2769f858"
      }
     }
    },
    "2c59ea90-24fd-4a8e-971e-4ad7a6bdcc60": {
     "id": "2c59ea90-24fd-4a8e-971e-4ad7a6bdcc60",
     "prev": "5a339b89-7a6b-4b3e-aef5-99bf7739e499",
     "regions": {
      "b52ee594-7c9e-49fa-b698-20719506bff3": {
       "attrs": {
        "height": 0.8,
        "width": 0.8,
        "x": 0.1,
        "y": 0.1
       },
       "content": {
        "cell": "a744fdb9-c5d7-403b-9478-518c5dcac34b",
        "part": "whole"
       },
       "id": "b52ee594-7c9e-49fa-b698-20719506bff3"
      }
     }
    },
    "2f37c0be-0669-40e2-9c14-d807eff4d361": {
     "id": "2f37c0be-0669-40e2-9c14-d807eff4d361",
     "prev": "87d83cc3-909e-462c-bab0-68936b8e4978",
     "regions": {
      "2601b643-a18d-4e79-9613-4bda3412b4ee": {
       "attrs": {
        "height": 0.8,
        "width": 0.8,
        "x": 0.1,
        "y": 0.1
       },
       "content": {
        "cell": "8c43ef59-351b-4fe8-9a39-7a2c8f2523d6",
        "part": "whole"
       },
       "id": "2601b643-a18d-4e79-9613-4bda3412b4ee"
      }
     }
    },
    "3253785e-1161-4e6b-bf4f-fdc07bad3b44": {
     "id": "3253785e-1161-4e6b-bf4f-fdc07bad3b44",
     "prev": "38bba061-7c43-46b3-b07e-dfa4a9bd8ee9",
     "regions": {
      "11f417ad-7ea5-457c-9d6d-c7f7b7ff1321": {
       "attrs": {
        "height": 0.8,
        "width": 0.8,
        "x": 0.1,
        "y": 0.1
       },
       "content": {
        "cell": "7d6d36d0-8aed-4477-92c6-a7b88027f8cd",
        "part": "whole"
       },
       "id": "11f417ad-7ea5-457c-9d6d-c7f7b7ff1321"
      }
     }
    },
    "37fa8821-d2c0-4190-99d7-f55a2df2dd45": {
     "id": "37fa8821-d2c0-4190-99d7-f55a2df2dd45",
     "prev": "161af1be-aade-475e-b4a9-63cff81d7f08",
     "regions": {
      "7c64dca8-d46f-44b3-a69e-7b6c346e6def": {
       "attrs": {
        "height": 0.8,
        "width": 0.8,
        "x": 0.1,
        "y": 0.1
       },
       "content": {
        "cell": "856f7603-7394-4078-bb95-49e2eb6b82e1",
        "part": "whole"
       },
       "id": "7c64dca8-d46f-44b3-a69e-7b6c346e6def"
      }
     }
    },
    "38bba061-7c43-46b3-b07e-dfa4a9bd8ee9": {
     "id": "38bba061-7c43-46b3-b07e-dfa4a9bd8ee9",
     "prev": "77abbf1a-e828-41d2-8128-f7229765e57c",
     "regions": {
      "5a3f4e7e-9f27-4b42-ac63-dd459f1b0dba": {
       "attrs": {
        "height": 0.8,
        "width": 0.8,
        "x": 0.1,
        "y": 0.1
       },
       "content": {
        "cell": "5532c813-05e0-449a-833a-7e033344a894",
        "part": "whole"
       },
       "id": "5a3f4e7e-9f27-4b42-ac63-dd459f1b0dba"
      }
     }
    },
    "38d09e3f-8c41-4309-9f41-7832f254267a": {
     "id": "38d09e3f-8c41-4309-9f41-7832f254267a",
     "prev": "dbf9cdd7-1db7-4386-bf8a-8d00beb75188",
     "regions": {
      "98676de3-34fa-4f5f-beba-83877994f4a2": {
       "attrs": {
        "height": 0.8,
        "width": 0.8,
        "x": 0.1,
        "y": 0.1
       },
       "content": {
        "cell": "bec12554-a9e4-448a-96f5-852c92c2041e",
        "part": "whole"
       },
       "id": "98676de3-34fa-4f5f-beba-83877994f4a2"
      }
     }
    },
    "41381df6-c4dc-4dfe-a0b0-f0f2b9688924": {
     "id": "41381df6-c4dc-4dfe-a0b0-f0f2b9688924",
     "prev": "4d749ea7-622c-4dfd-b585-de1224b06e6f",
     "regions": {
      "6dd558b1-1740-49f4-bba4-0aff9ebe6a39": {
       "attrs": {
        "height": 0.8,
        "width": 0.8,
        "x": 0.1,
        "y": 0.1
       },
       "content": {
        "cell": "6cd6b3ba-c8f6-4d10-9ec4-03e243120629",
        "part": "whole"
       },
       "id": "6dd558b1-1740-49f4-bba4-0aff9ebe6a39"
      }
     }
    },
    "418ee905-78ac-495d-aaa1-49615b21aef4": {
     "id": "418ee905-78ac-495d-aaa1-49615b21aef4",
     "prev": "37fa8821-d2c0-4190-99d7-f55a2df2dd45",
     "regions": {
      "0e72224c-bcae-46dd-9b0f-c5008576bad6": {
       "attrs": {
        "height": 0.8,
        "width": 0.8,
        "x": 0.1,
        "y": 0.1
       },
       "content": {
        "cell": "dc90dfb5-2df5-4bb8-ae3b-e95e455833bb",
        "part": "whole"
       },
       "id": "0e72224c-bcae-46dd-9b0f-c5008576bad6"
      }
     }
    },
    "41c11f90-57c0-4479-9812-6bf369d74b84": {
     "id": "41c11f90-57c0-4479-9812-6bf369d74b84",
     "prev": "418ee905-78ac-495d-aaa1-49615b21aef4",
     "regions": {
      "27cb3917-418d-4180-83b7-a75d31f54e62": {
       "attrs": {
        "height": 0.8,
        "width": 0.8,
        "x": 0.1,
        "y": 0.1
       },
       "content": {
        "cell": "677843bf-de42-495e-ad64-b68b4fcbe27b",
        "part": "whole"
       },
       "id": "27cb3917-418d-4180-83b7-a75d31f54e62"
      }
     }
    },
    "4d3a1e4e-a5cb-451e-adaa-2347112de55b": {
     "id": "4d3a1e4e-a5cb-451e-adaa-2347112de55b",
     "prev": "f6021de0-9fbd-496d-b628-d96de09df5b7",
     "regions": {
      "97c9d6fd-d311-444c-9179-6ec1d858dba3": {
       "attrs": {
        "height": 0.8,
        "width": 0.8,
        "x": 0.1,
        "y": 0.1
       },
       "content": {
        "cell": "326b2ffa-1589-4fe5-b89f-875f6eedc3cb",
        "part": "whole"
       },
       "id": "97c9d6fd-d311-444c-9179-6ec1d858dba3"
      }
     }
    },
    "4d749ea7-622c-4dfd-b585-de1224b06e6f": {
     "id": "4d749ea7-622c-4dfd-b585-de1224b06e6f",
     "prev": "e0acd54f-6b9f-40d3-8ba0-1cd76e01a273",
     "regions": {
      "fe4c4180-e48a-413a-807d-5da1452ef237": {
       "attrs": {
        "height": 0.8,
        "width": 0.8,
        "x": 0.1,
        "y": 0.1
       },
       "content": {
        "cell": "918f8c87-06fa-4d68-8814-c03b2b697eb6",
        "part": "whole"
       },
       "id": "fe4c4180-e48a-413a-807d-5da1452ef237"
      }
     }
    },
    "53f8da18-3d88-45cc-8b74-433e4b28a004": {
     "id": "53f8da18-3d88-45cc-8b74-433e4b28a004",
     "prev": "bf117bc5-a778-444f-96d2-aacda9c2eafe",
     "regions": {
      "a0c2e835-7690-4423-b8fd-bbbe5cba02bb": {
       "attrs": {
        "height": 0.8,
        "width": 0.8,
        "x": 0.1,
        "y": 0.1
       },
       "content": {
        "cell": "2c77b4fa-4e25-41aa-9212-fd228ab00dc2",
        "part": "whole"
       },
       "id": "a0c2e835-7690-4423-b8fd-bbbe5cba02bb"
      }
     }
    },
    "57ed1d14-3b6e-491a-a235-0843e77ae8f6": {
     "id": "57ed1d14-3b6e-491a-a235-0843e77ae8f6",
     "prev": "a07fdd0f-cd7d-41df-9169-e4f284d05244",
     "regions": {
      "3822dd35-c77b-4b07-a286-b52cf088363f": {
       "attrs": {
        "height": 0.8,
        "width": 0.8,
        "x": 0.1,
        "y": 0.1
       },
       "content": {
        "cell": "c5cdaad0-8fd5-4392-9163-dc0951088a7d",
        "part": "whole"
       },
       "id": "3822dd35-c77b-4b07-a286-b52cf088363f"
      }
     }
    },
    "5a2c229c-fe40-42e1-b8fe-870fb7085973": {
     "id": "5a2c229c-fe40-42e1-b8fe-870fb7085973",
     "prev": "1f646257-3146-482a-83e8-3f0c09b8c9d5",
     "regions": {
      "fa646aa7-0470-4710-82fc-e9d538a24120": {
       "attrs": {
        "height": 0.8,
        "width": 0.8,
        "x": 0.1,
        "y": 0.1
       },
       "content": {
        "cell": "bde99856-5b3b-4ff5-852a-090cebe81b1f",
        "part": "whole"
       },
       "id": "fa646aa7-0470-4710-82fc-e9d538a24120"
      }
     }
    },
    "5a339b89-7a6b-4b3e-aef5-99bf7739e499": {
     "id": "5a339b89-7a6b-4b3e-aef5-99bf7739e499",
     "prev": "e44294fa-c1fe-4be4-bf5c-716cba08ebae",
     "regions": {
      "27d3c808-20c9-4968-b23b-8aaeddfb8b41": {
       "attrs": {
        "height": 0.8,
        "width": 0.8,
        "x": 0.1,
        "y": 0.1
       },
       "content": {
        "cell": "89daf97a-6d82-4994-ae8a-afa387b2255d",
        "part": "whole"
       },
       "id": "27d3c808-20c9-4968-b23b-8aaeddfb8b41"
      }
     }
    },
    "5ff6fc65-a3b5-4ea9-a474-3ed3b562f3c0": {
     "id": "5ff6fc65-a3b5-4ea9-a474-3ed3b562f3c0",
     "prev": "801f15dc-62d3-4469-afca-a082f8bdd93a",
     "regions": {
      "c0a21e90-0534-43da-b25d-b1c76bf4679a": {
       "attrs": {
        "height": 0.8,
        "width": 0.8,
        "x": 0.1,
        "y": 0.1
       },
       "content": {
        "cell": "5e98b3d1-66ec-4288-9f42-886841728bdf",
        "part": "whole"
       },
       "id": "c0a21e90-0534-43da-b25d-b1c76bf4679a"
      }
     }
    },
    "69e9b2d5-fff4-4b0c-bc86-f22de58ccfd8": {
     "id": "69e9b2d5-fff4-4b0c-bc86-f22de58ccfd8",
     "prev": "ed58a8df-0efa-447d-b0c3-844ec2ea5021",
     "regions": {
      "ec5760ec-87d5-418b-837a-1cda1600f339": {
       "attrs": {
        "height": 0.8,
        "width": 0.8,
        "x": 0.1,
        "y": 0.1
       },
       "content": {
        "cell": "04429cc1-87ce-40db-98af-7589edcb0ffb",
        "part": "whole"
       },
       "id": "ec5760ec-87d5-418b-837a-1cda1600f339"
      }
     }
    },
    "752ca7e2-2dc3-43a6-83ee-2b3970ff7666": {
     "id": "752ca7e2-2dc3-43a6-83ee-2b3970ff7666",
     "prev": "53f8da18-3d88-45cc-8b74-433e4b28a004",
     "regions": {
      "d29712c9-1145-42a2-adaa-50f3f3ba8316": {
       "attrs": {
        "height": 0.8,
        "width": 0.8,
        "x": 0.1,
        "y": 0.1
       },
       "content": {
        "cell": "557f63ab-5d0f-457d-9bf6-d98a8b36123a",
        "part": "whole"
       },
       "id": "d29712c9-1145-42a2-adaa-50f3f3ba8316"
      }
     }
    },
    "77abbf1a-e828-41d2-8128-f7229765e57c": {
     "id": "77abbf1a-e828-41d2-8128-f7229765e57c",
     "prev": "1feeb37e-3431-4e66-ba60-98ee075b4207",
     "regions": {
      "c8b35079-eb08-45c1-aac9-52f883143c47": {
       "attrs": {
        "height": 0.8,
        "width": 0.8,
        "x": 0.1,
        "y": 0.1
       },
       "content": {
        "cell": "597c1bb5-6edf-4fa7-b0a7-bd19b51702d2",
        "part": "whole"
       },
       "id": "c8b35079-eb08-45c1-aac9-52f883143c47"
      }
     }
    },
    "796e4972-74bc-4d64-b368-323983e3ed6a": {
     "id": "796e4972-74bc-4d64-b368-323983e3ed6a",
     "prev": "08bb44d4-b7ca-4f73-a27b-f978ba75b304",
     "regions": {
      "7131da48-0520-4e1b-87a4-ae90c50b2fe3": {
       "attrs": {
        "height": 0.8,
        "width": 0.8,
        "x": 0.1,
        "y": 0.1
       },
       "content": {
        "cell": "e89136fc-e209-4fd7-b275-a3db1f91e757",
        "part": "whole"
       },
       "id": "7131da48-0520-4e1b-87a4-ae90c50b2fe3"
      }
     }
    },
    "7de8c1dd-41d6-495a-a50c-3ceb7fb737d6": {
     "id": "7de8c1dd-41d6-495a-a50c-3ceb7fb737d6",
     "prev": "8f04349e-23e4-4f4e-8731-c4a86a82cd5e",
     "regions": {
      "120f7d96-bb49-472b-852b-d2056198daae": {
       "attrs": {
        "height": 0.8,
        "width": 0.8,
        "x": 0.1,
        "y": 0.1
       },
       "content": {
        "cell": "3b9d122c-aee5-49eb-a19e-97fd3380a23c",
        "part": "whole"
       },
       "id": "120f7d96-bb49-472b-852b-d2056198daae"
      }
     }
    },
    "801f15dc-62d3-4469-afca-a082f8bdd93a": {
     "id": "801f15dc-62d3-4469-afca-a082f8bdd93a",
     "prev": "fd4a058e-8850-4279-86c3-81a4f1c5c8d5",
     "regions": {
      "fc7764c9-3d41-4195-86c0-20c4aea1d86e": {
       "attrs": {
        "height": 0.8,
        "width": 0.8,
        "x": 0.1,
        "y": 0.1
       },
       "content": {
        "cell": "46729075-623f-4c30-bbee-bbe092ecabe4",
        "part": "whole"
       },
       "id": "fc7764c9-3d41-4195-86c0-20c4aea1d86e"
      }
     }
    },
    "87d83cc3-909e-462c-bab0-68936b8e4978": {
     "id": "87d83cc3-909e-462c-bab0-68936b8e4978",
     "prev": "38d09e3f-8c41-4309-9f41-7832f254267a",
     "regions": {
      "6aa59148-aa91-450e-bc6e-b9b6d589bca2": {
       "attrs": {
        "height": 0.8,
        "width": 0.8,
        "x": 0.1,
        "y": 0.1
       },
       "content": {
        "cell": "d21bc442-5d8f-4184-8294-e72a3f93565a",
        "part": "whole"
       },
       "id": "6aa59148-aa91-450e-bc6e-b9b6d589bca2"
      }
     }
    },
    "8f04349e-23e4-4f4e-8731-c4a86a82cd5e": {
     "id": "8f04349e-23e4-4f4e-8731-c4a86a82cd5e",
     "prev": "ffd5c1bd-65b7-409e-8b08-9179577fc74f",
     "regions": {
      "8a05d106-c45b-4746-a297-a90ed1cc9708": {
       "attrs": {
        "height": 0.8,
        "width": 0.8,
        "x": 0.1,
        "y": 0.1
       },
       "content": {
        "cell": "1bfe34f3-764a-40cc-9025-b756626f60f3",
        "part": "whole"
       },
       "id": "8a05d106-c45b-4746-a297-a90ed1cc9708"
      }
     }
    },
    "98087c62-142f-4cfe-8ce7-de635deddb91": {
     "id": "98087c62-142f-4cfe-8ce7-de635deddb91",
     "prev": "e30a0cca-fe69-4468-a9cb-e792c1036917",
     "regions": {
      "758a02cc-a562-4c12-a537-f865379f3770": {
       "attrs": {
        "height": 0.8,
        "width": 0.8,
        "x": 0.1,
        "y": 0.1
       },
       "content": {
        "cell": "c0a1208f-ef7f-4ff9-a40d-2ecf9ece35da",
        "part": "whole"
       },
       "id": "758a02cc-a562-4c12-a537-f865379f3770"
      }
     }
    },
    "a07fdd0f-cd7d-41df-9169-e4f284d05244": {
     "id": "a07fdd0f-cd7d-41df-9169-e4f284d05244",
     "prev": "5ff6fc65-a3b5-4ea9-a474-3ed3b562f3c0",
     "regions": {
      "e35d555d-f77f-4bc6-9737-7d8aa78787dc": {
       "attrs": {
        "height": 0.8,
        "width": 0.8,
        "x": 0.1,
        "y": 0.1
       },
       "content": {
        "cell": "0e3acc71-fc80-4af6-a2e8-ddbf917bce5e",
        "part": "whole"
       },
       "id": "e35d555d-f77f-4bc6-9737-7d8aa78787dc"
      }
     }
    },
    "bd97c582-73c1-42f7-b537-a3cb742531ba": {
     "id": "bd97c582-73c1-42f7-b537-a3cb742531ba",
     "prev": "2336abbe-1609-4baf-9ce9-a3514fb9d345",
     "regions": {
      "1daae8cd-3a4c-41e6-84ec-83c317b9b35f": {
       "attrs": {
        "height": 0.4,
        "width": 0.8,
        "x": 0.1,
        "y": 0.5
       },
       "content": {
        "cell": "a4a10215-9372-4c7c-baae-fbb6bfa37991",
        "part": "whole"
       },
       "id": "1daae8cd-3a4c-41e6-84ec-83c317b9b35f"
      },
      "55d2b556-621a-4af4-bca2-edda9ac121c2": {
       "attrs": {
        "height": 0.8,
        "width": 0.8,
        "x": 0.1,
        "y": 0.1
       },
       "content": {
        "cell": "a3c071fb-877c-4e92-b2c3-5af3ddbd4152",
        "part": "whole"
       },
       "id": "55d2b556-621a-4af4-bca2-edda9ac121c2"
      }
     }
    },
    "bf117bc5-a778-444f-96d2-aacda9c2eafe": {
     "id": "bf117bc5-a778-444f-96d2-aacda9c2eafe",
     "prev": "2c59ea90-24fd-4a8e-971e-4ad7a6bdcc60",
     "regions": {
      "3eada776-2482-4f3e-a2e9-6719684c4d2d": {
       "attrs": {
        "height": 0.8,
        "width": 0.8,
        "x": 0.1,
        "y": 0.1
       },
       "content": {
        "cell": "ebaadfe7-967f-440b-9353-fdd1d9e476e7",
        "part": "whole"
       },
       "id": "3eada776-2482-4f3e-a2e9-6719684c4d2d"
      }
     }
    },
    "d1bca1f7-b359-4800-81af-44b2cc147e39": {
     "id": "d1bca1f7-b359-4800-81af-44b2cc147e39",
     "prev": "d2ce7ab5-f50c-43c9-ab26-0f482cc1ff16",
     "regions": {
      "9249e854-de03-4a98-ab4f-54e54b15565a": {
       "attrs": {
        "height": 0.8,
        "width": 0.8,
        "x": 0.1,
        "y": 0.1
       },
       "content": {
        "cell": "d00d7882-e77a-4b86-9f5f-bea871a06c63",
        "part": "whole"
       },
       "id": "9249e854-de03-4a98-ab4f-54e54b15565a"
      }
     }
    },
    "d2ce7ab5-f50c-43c9-ab26-0f482cc1ff16": {
     "id": "d2ce7ab5-f50c-43c9-ab26-0f482cc1ff16",
     "prev": null,
     "regions": {
      "936e2e73-1f2e-4f4d-b93b-70b6142c0690": {
       "attrs": {
        "height": 0.8,
        "width": 0.8,
        "x": 0.1,
        "y": 0.1
       },
       "content": {
        "cell": "30d4402f-3935-4ff8-b62b-f2b0dcab73ef",
        "part": "whole"
       },
       "id": "936e2e73-1f2e-4f4d-b93b-70b6142c0690"
      },
      "e4c87903-39b0-47d0-8f0c-f6010c0127f9": {
       "attrs": {
        "height": 0.4,
        "width": 0.8,
        "x": 0.1,
        "y": 0.5
       },
       "content": {
        "cell": "1f2e8d63-92ac-44b9-af0e-df5cf4207f82",
        "part": "whole"
       },
       "id": "e4c87903-39b0-47d0-8f0c-f6010c0127f9"
      }
     }
    },
    "d3172d4c-7d19-4a29-a264-f9d3ae5db563": {
     "id": "d3172d4c-7d19-4a29-a264-f9d3ae5db563",
     "prev": "5a2c229c-fe40-42e1-b8fe-870fb7085973",
     "regions": {
      "bdbaf03d-84d3-488d-983e-20d8da8d66f4": {
       "attrs": {
        "height": 0.8,
        "width": 0.8,
        "x": 0.1,
        "y": 0.1
       },
       "content": {
        "cell": "4774b4b3-4f3f-419f-958f-d38a8c1b6a43",
        "part": "whole"
       },
       "id": "bdbaf03d-84d3-488d-983e-20d8da8d66f4"
      }
     }
    },
    "d816b347-f9e7-4de1-99ed-45be33677d10": {
     "id": "d816b347-f9e7-4de1-99ed-45be33677d10",
     "prev": "57ed1d14-3b6e-491a-a235-0843e77ae8f6",
     "regions": {
      "dfd7cc34-ab47-4023-810e-7783888fda39": {
       "attrs": {
        "height": 0.8,
        "width": 0.8,
        "x": 0.1,
        "y": 0.1
       },
       "content": {
        "cell": "8d60d46a-67c9-427b-85f8-588999095896",
        "part": "whole"
       },
       "id": "dfd7cc34-ab47-4023-810e-7783888fda39"
      }
     }
    },
    "dafa6781-ebe8-4227-ab79-0381db5b46ec": {
     "id": "dafa6781-ebe8-4227-ab79-0381db5b46ec",
     "prev": "7de8c1dd-41d6-495a-a50c-3ceb7fb737d6",
     "regions": {
      "d61d3dec-6909-4e42-a3fe-bd5e9e989262": {
       "attrs": {
        "height": 0.8,
        "width": 0.8,
        "x": 0.1,
        "y": 0.1
       },
       "content": {
        "cell": "88f1e9ed-b8d3-469b-adf3-3967deed8679",
        "part": "whole"
       },
       "id": "d61d3dec-6909-4e42-a3fe-bd5e9e989262"
      }
     }
    },
    "dbf9cdd7-1db7-4386-bf8a-8d00beb75188": {
     "id": "dbf9cdd7-1db7-4386-bf8a-8d00beb75188",
     "prev": "796e4972-74bc-4d64-b368-323983e3ed6a",
     "regions": {
      "d490a9ac-d059-4601-8d20-c95b021e206e": {
       "attrs": {
        "height": 0.8,
        "width": 0.8,
        "x": 0.1,
        "y": 0.1
       },
       "content": {
        "cell": "01a4a91c-7c77-487a-915d-87988e65b261",
        "part": "whole"
       },
       "id": "d490a9ac-d059-4601-8d20-c95b021e206e"
      }
     }
    },
    "e0acd54f-6b9f-40d3-8ba0-1cd76e01a273": {
     "id": "e0acd54f-6b9f-40d3-8ba0-1cd76e01a273",
     "prev": "3253785e-1161-4e6b-bf4f-fdc07bad3b44",
     "regions": {
      "3053bc0f-bf71-4ae8-ad90-588d6b33fd33": {
       "attrs": {
        "height": 0.8,
        "width": 0.8,
        "x": 0.1,
        "y": 0.1
       },
       "content": {
        "cell": "f8cf6c35-b4f3-46d2-b6a5-05523b43f971",
        "part": "whole"
       },
       "id": "3053bc0f-bf71-4ae8-ad90-588d6b33fd33"
      }
     }
    },
    "e30a0cca-fe69-4468-a9cb-e792c1036917": {
     "id": "e30a0cca-fe69-4468-a9cb-e792c1036917",
     "prev": "e6f56721-fa51-465e-b2b6-25817d03b03c",
     "regions": {
      "b48ac464-09b9-470b-a2a0-4f43dc9ed14d": {
       "attrs": {
        "height": 0.8,
        "width": 0.8,
        "x": 0.1,
        "y": 0.1
       },
       "content": {
        "cell": "8c5c2907-4385-4080-bae2-44de831e0ebf",
        "part": "whole"
       },
       "id": "b48ac464-09b9-470b-a2a0-4f43dc9ed14d"
      }
     }
    },
    "e44294fa-c1fe-4be4-bf5c-716cba08ebae": {
     "id": "e44294fa-c1fe-4be4-bf5c-716cba08ebae",
     "prev": "4d3a1e4e-a5cb-451e-adaa-2347112de55b",
     "regions": {
      "835b9a8f-d86f-46bc-ba00-1586fa03c178": {
       "attrs": {
        "height": 0.8,
        "width": 0.8,
        "x": 0.1,
        "y": 0.1
       },
       "content": {
        "cell": "c2770990-aaec-49f7-8e71-9836e852e10e",
        "part": "whole"
       },
       "id": "835b9a8f-d86f-46bc-ba00-1586fa03c178"
      }
     }
    },
    "e6f56721-fa51-465e-b2b6-25817d03b03c": {
     "id": "e6f56721-fa51-465e-b2b6-25817d03b03c",
     "prev": "dafa6781-ebe8-4227-ab79-0381db5b46ec",
     "regions": {
      "53a1b896-501f-4573-81da-880228079c2b": {
       "attrs": {
        "height": 0.8,
        "width": 0.8,
        "x": 0.1,
        "y": 0.1
       },
       "content": {
        "cell": "99493028-661c-47ca-b5c4-a8eb2120ebda",
        "part": "whole"
       },
       "id": "53a1b896-501f-4573-81da-880228079c2b"
      }
     }
    },
    "ed58a8df-0efa-447d-b0c3-844ec2ea5021": {
     "id": "ed58a8df-0efa-447d-b0c3-844ec2ea5021",
     "prev": "d1bca1f7-b359-4800-81af-44b2cc147e39",
     "regions": {
      "0cb731ad-9df1-4e5b-b6d3-93a9cf76596c": {
       "attrs": {
        "height": 0.8,
        "width": 0.8,
        "x": 0.1,
        "y": 0.1
       },
       "content": {
        "cell": "2ab5f73d-4fc3-46c9-a147-cd318c2f9a85",
        "part": "whole"
       },
       "id": "0cb731ad-9df1-4e5b-b6d3-93a9cf76596c"
      }
     }
    },
    "f6021de0-9fbd-496d-b628-d96de09df5b7": {
     "id": "f6021de0-9fbd-496d-b628-d96de09df5b7",
     "prev": "2983e341-9aa1-4ca3-a4ba-7b03b2b8038c",
     "regions": {
      "eea0ee19-3815-4c00-99b5-e593fc297af7": {
       "attrs": {
        "height": 0.8,
        "width": 0.8,
        "x": 0.1,
        "y": 0.1
       },
       "content": {
        "cell": "49ed82e5-7774-4224-b4a8-7ea5cfa512cd",
        "part": "whole"
       },
       "id": "eea0ee19-3815-4c00-99b5-e593fc297af7"
      }
     }
    },
    "fd4a058e-8850-4279-86c3-81a4f1c5c8d5": {
     "id": "fd4a058e-8850-4279-86c3-81a4f1c5c8d5",
     "prev": "98087c62-142f-4cfe-8ce7-de635deddb91",
     "regions": {
      "59e65962-e156-46ce-8120-f4eef719c8c5": {
       "attrs": {
        "height": 0.8,
        "width": 0.8,
        "x": 0.1,
        "y": 0.1
       },
       "content": {
        "cell": "3ac9c627-8e17-4bd1-94df-c0e7e1c38228",
        "part": "whole"
       },
       "id": "59e65962-e156-46ce-8120-f4eef719c8c5"
      }
     }
    },
    "ffd5c1bd-65b7-409e-8b08-9179577fc74f": {
     "id": "ffd5c1bd-65b7-409e-8b08-9179577fc74f",
     "prev": "41381df6-c4dc-4dfe-a0b0-f0f2b9688924",
     "regions": {
      "219484ae-dc9b-4c5a-8d18-56c2764ae2b0": {
       "attrs": {
        "height": 0.8,
        "width": 0.8,
        "x": 0.1,
        "y": 0.1
       },
       "content": {
        "cell": "275247d4-ec42-426a-8fc4-94ae7b11a675",
        "part": "whole"
       },
       "id": "219484ae-dc9b-4c5a-8d18-56c2764ae2b0"
      }
     }
    }
   },
   "themes": {}
  }
 },
 "nbformat": 4,
 "nbformat_minor": 2
}
