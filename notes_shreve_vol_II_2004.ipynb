{
 "cells": [
  {
   "cell_type": "markdown",
   "metadata": {
    "nbpresent": {
     "id": "d00d7882-e77a-4b86-9f5f-bea871a06c63"
    },
    "slideshow": {
     "slide_type": "slide"
    }
   },
   "source": [
    "# Stochastic Calculus for Finance II Continuous-Time Models (2004)\n",
    "## Steven E. Shreve (570 pages)\n",
    "\n",
    "Volume II was developed to support three half-semester courses in the MSCF program.\n"
   ]
  },
  {
   "cell_type": "markdown",
   "metadata": {
    "nbpresent": {
     "id": "2ab5f73d-4fc3-46c9-a147-cd318c2f9a85"
    },
    "slideshow": {
     "slide_type": "subslide"
    }
   },
   "source": [
    "<a id=\"index\"></a>\n",
    "# Index\n",
    "1.[General Probability Theory](#generalprobabilitytheory)\n",
    "\n",
    "2.[Information and Conditioning](#informationandconditioning)\n",
    "\n",
    "3.[Brownian Motion](#brownianmotion)\n",
    "\n",
    "[4.]()\n",
    "[5.]()\n",
    "[6.]()\n",
    "[7.]()\n",
    "\n",
    "8.[American Derivative Securities](#americanderivativesecurities)\n",
    "[]()\n",
    "[]()\n",
    "[]()\n",
    "[]()\n",
    "[]()\n",
    "[]()\n",
    "[]()\n",
    "[]()\n",
    "[]()\n",
    "[]()\n",
    "[]()\n",
    "[]()\n",
    "[]()\n"
   ]
  },
  {
   "cell_type": "markdown",
   "metadata": {
    "nbpresent": {
     "id": "04429cc1-87ce-40db-98af-7589edcb0ffb"
    },
    "slideshow": {
     "slide_type": "slide"
    }
   },
   "source": [
    "<a id =\"generalprobabilitytheory\"></a>\n",
    "\n",
    "# 1. General Probability Theory\n",
    "\n",
    "[Back to Index](#index)\n",
    "\n",
    "\n",
    "\n",
    "   \n",
    "\n"
   ]
  },
  {
   "cell_type": "markdown",
   "metadata": {
    "nbpresent": {
     "id": "9e79c8f3-9159-4159-baa9-b34f9cb61db6"
    },
    "slideshow": {
     "slide_type": "subslide"
    }
   },
   "source": [
    "## Definition 1.1.1: $\\sigma$-algebra\n",
    "\n",
    "Let $\\Omega$ be a nonempty set, and let $\\mathscr{F}$ be a collection of sub- sets of $\\Omega$. We say that $\\mathscr{F}$ is a $\\sigma$-algebra (called a $\\sigma$-field by some authors) provided that:\n",
    "1. $\\varnothing$ $\\in$ $\\mathscr{F}$,\n",
    "2. if any set $A$ belongs to $\\mathscr{F}$ , $\\in$ $A^C$  $\\mathscr{F}$,\n",
    "3. if a sequence of sets $A1,A2,...$ $\\in$ $\\mathscr{F}$, $\\bigcup\\limits_{i=1}^{\\infty} A_{i}$ $\\in$ $\\mathscr{F}$.\n",
    "\n",
    "\n",
    "$\\Omega$"
   ]
  },
  {
   "cell_type": "markdown",
   "metadata": {
    "nbpresent": {
     "id": "e89136fc-e209-4fd7-b275-a3db1f91e757"
    },
    "slideshow": {
     "slide_type": "subslide"
    }
   },
   "source": [
    "## Definition 1.1.2. $\\mathbb{P}$robability Measure\n",
    "A probability measure $\\mathbb{P}$ is a function that, to every set $A \\in \\mathscr{F}$, assigns a number in $[0,1]$, called the probability of A and written $\\mathbb{P}(A)$. We require:\n",
    "\n",
    "1. $\\mathbb{P}(\\Omega)=1$\n",
    "2. $\\mathbb{P}(\\quad\\cdot\\!\\!\\!\\!\\!\\bigcup\\limits_{i=1}^{\\infty} A_{i})$=$\\sum\\limits_{i=1}^{\\infty}\\mathbb{P}(A_{i})$"
   ]
  },
  {
   "cell_type": "markdown",
   "metadata": {
    "nbpresent": {
     "id": "01a4a91c-7c77-487a-915d-87988e65b261"
    },
    "slideshow": {
     "slide_type": "subslide"
    }
   },
   "source": [
    "The triple $(\\Omega,\\mathscr{F}, \\mathbb{P})$is called a probability space"
   ]
  },
  {
   "cell_type": "markdown",
   "metadata": {
    "nbpresent": {
     "id": "bec12554-a9e4-448a-96f5-852c92c2041e"
    }
   },
   "source": [
    "## Definition 1.1.5. \n",
    "\n",
    "Let $(\\Omega,\\mathscr{F}, \\mathbb{P})$ be a probability space. If a set $ A \\in \\mathscr{F}$ satisfies P(A) = 1,we say that the event A occurs almost surely."
   ]
  },
  {
   "cell_type": "markdown",
   "metadata": {
    "collapsed": true,
    "nbpresent": {
     "id": "d21bc442-5d8f-4184-8294-e72a3f93565a"
    },
    "slideshow": {
     "slide_type": "subslide"
    }
   },
   "source": [
    "## Definition 1.2.1: Random Variable\n",
    "A random variable is a real-valued function  X defined on  Ω with the property that for every Borel subset B of  ℝ\n",
    " ,the subset of  Ω\n",
    "  given by  {X∈B}={w∈Ω:X(ω)∈B} is in the  σ-algebra  ℱ.\n",
    "  \n",
    "(We sometimes also permit a random variable to take the values  ∞ and - ∞)\n",
    "\n",
    "Ruben's Notes:\n",
    "\n",
    ". On the previous version (1997) it define a random variable as a function  f:Ω→ℝ\n",
    "\n",
    ". Borel  σ-algebra  ( ℛ): Smallest  σ-algebra containing all open intervals."
   ]
  },
  {
   "cell_type": "markdown",
   "metadata": {
    "nbpresent": {
     "id": "8c43ef59-351b-4fe8-9a39-7a2c8f2523d6"
    },
    "slideshow": {
     "slide_type": "subslide"
    }
   },
   "source": [
    "## Definition 1.2.3. \n",
    "\n",
    "Let X be a random variable on a probability space $(\\Omega,\\mathscr{F}, \\mathbb{P})$. The distribution measure of X is the probability measure $\\mu_{x}$ that assigns to each B o d subset B of B the mass $\\mu_{x}(B) = P\\{X \\in B\\}$ (see Figure 1.2.1).\n",
    "\n",
    "Two different random variables can have the same distribution. A single random variable can have two different distributions.\n",
    "\n",
    "![title](fig121.png)\n",
    "\n"
   ]
  },
  {
   "cell_type": "markdown",
   "metadata": {
    "nbpresent": {
     "id": "6a3164e0-eafd-4ca0-950c-a6c2063490b3"
    },
    "slideshow": {
     "slide_type": "subslide"
    }
   },
   "source": []
  },
  {
   "cell_type": "markdown",
   "metadata": {
    "nbpresent": {
     "id": "49ed82e5-7774-4224-b4a8-7ea5cfa512cd"
    },
    "slideshow": {
     "slide_type": "slide"
    }
   },
   "source": [
    "<a id =\"informationandconditioning\"></a>\n",
    "\n",
    "# 2. Information and Conditioning\n",
    "\n",
    "(pages 69 to 102)\n",
    "\n",
    "[Back to Index](#index)"
   ]
  },
  {
   "cell_type": "markdown",
   "metadata": {
    "nbpresent": {
     "id": "326b2ffa-1589-4fe5-b89f-875f6eedc3cb"
    },
    "slideshow": {
     "slide_type": "subslide"
    }
   },
   "source": [
    "## Definition 2.1.1. Filtration\n",
    "\n",
    "Let $\\Omega$ be a nonempty set. Let $T$ be a fixed positive number, and assume that for each $t \\in [O,T]$ there is a $\\sigma -algebra$ $\\mathscr{F_t}$ . Assume further that if $s <= t$, then every set in $\\mathscr{F}_s$ is also in $\\mathscr{F}_t$. Then we call the collection of $\\sigma -algebra$ $\\mathscr{F_t}$, $0<=t<=T$, a filtration.\n",
    "\n",
    "\n",
    "atoms (indivisible sets in the $\\sigma -algebra$)"
   ]
  },
  {
   "cell_type": "markdown",
   "metadata": {
    "collapsed": true,
    "nbpresent": {
     "id": "03e05164-158b-44f9-be89-58e3e01bd76f"
    },
    "slideshow": {
     "slide_type": "skip"
    }
   },
   "source": [
    "\n",
    "http://detexify.kirelabs.org/classify.html\n",
    "http://kile.sourceforge.net\n",
    "http://pandoc.org/MANUAL.html"
   ]
  },
  {
   "cell_type": "markdown",
   "metadata": {
    "nbpresent": {
     "id": "c2770990-aaec-49f7-8e71-9836e852e10e"
    },
    "slideshow": {
     "slide_type": "subslide"
    }
   },
   "source": [
    "## Definition 2.1.3.  $\\sigma-algebra$ generated by X\n",
    "Let X be a random variable defined on a nonemp ty sample space R. The $\\sigma-algebra$ generated by X , denoted $\\sigma(X)$, is the collection of all subsets of $\\mathbb{R}$ of the form $\\{X \\in B\\}$,$^3$ where $B$ ranges over the Borel subsets of $\\mathbb{R}$.\n",
    "\n",
    "(Note: Intuition: If we know that at time t the price is X, then we know all the paths that might have leads to that value. That set is called the sigma algebra generated by X)\n",
    "\n",
    "$^3$ Shorthand for  $\\{\\omega \\in \\Omega;X ( \\omega ) \\in B\\}$"
   ]
  },
  {
   "cell_type": "markdown",
   "metadata": {
    "nbpresent": {
     "id": "89daf97a-6d82-4994-ae8a-afa387b2255d"
    },
    "slideshow": {
     "slide_type": "subslide"
    }
   },
   "source": [
    "## Definition 2.1.5. $\\mathscr{G}-measurable$ \n",
    "\n",
    "Let $X$ be a random variable defined on a nonempty sample space $\\Omega$. Let $\\mathscr{G}$ be a $\\sigma-algebra$ of subsets of $\\Omega$. If every set in $\\mathscr{G}(X)$ is also in $\\mathscr{G}$, we say that $X$ is $\\mathscr{G}-measurable$.\n",
    "\n",
    "\n",
    "Intuition: There is enough information in $\\mathscr{F_{2}}$ to determine the value of $S_2$ and even more. We say that $S_2$ is $\\mathscr{F_{2}}$-measurable."
   ]
  },
  {
   "cell_type": "markdown",
   "metadata": {
    "nbpresent": {
     "id": "a744fdb9-c5d7-403b-9478-518c5dcac34b"
    },
    "slideshow": {
     "slide_type": "subslide"
    }
   },
   "source": [
    "## Definition 2.1.6. adapted stochastic process $\\{X_t\\}$\n",
    "Let $\\Omega$ be a nonempty sample space equipped with a $\\mathscr{F(t)}$, $0<=t,=T$. Let X(t) be a collection of random variables indexed by $t \\in [0,T]$. We say this collection of random variables is an adapted stochastic\n",
    "process if, for each $t$, the random variable $X(t)$ is $\\mathscr{F(t)}$-measurable.\n",
    "\n",
    "The stochastic variable $X_t$ only depends on information available up to time t "
   ]
  },
  {
   "cell_type": "markdown",
   "metadata": {
    "nbpresent": {
     "id": "ebaadfe7-967f-440b-9353-fdd1d9e476e7"
    }
   },
   "source": [
    "## Definition 2.2.1. Independence\n",
    "\n",
    "Let $(\\Omega,\\mathscr{F}, \\mathbb{P})$ be a probability space, and let 6 and 3.1 be sub-u-algebras of T (i.e., the sets in 6 and the sets in 3.1 are also in T). We say these two a-algebras are independent if\n",
    "P(AnB)=P(A).P(B)for allAE6, BE3.1\n",
    "\n",
    "Let X and Y be random variables on ($(\\Omega,\\mathscr{F}, \\mathbb{P})$. We say these two random variables are independent if the a-algebras they generate, a(X) and a(Y), are independent. We say that the random variable X is independent of the a-algebra 6 if a(X) and 6 are independent.\n"
   ]
  },
  {
   "cell_type": "markdown",
   "metadata": {
    "nbpresent": {
     "id": "2c77b4fa-4e25-41aa-9212-fd228ab00dc2"
    }
   },
   "source": [
    "## Definition2.2.3. Independence with more than 2 sub-sigma-algebras\n",
    "\n",
    "Let(O,3,P)beaprobabilityspaceandletGI,G2,G3,... be a sequence of sub-a-algebras of 3.For a j%ed positive integer n, we say that the n a-algebras G1, G2, ...,Gn are independent if\n",
    "P(A1n A 2 n . . . n A n )= P ( A l ) . P ( A , ) . . . . . P ( A n ) forallAlE&,A2 EG2,...,AnEGn-\n",
    "Let X1,X2,X3,... be a sequence of random variables on (0,3P,). Wesay the n random variables X1,X2,...,Xn are independent if the a-algebras a(X1), a(X2),...,a(X,) are independent. We say the full sequence of a-algebras GI,G2,G3,. .. is independent if, for every positive integer n, the n a-algebras 91,G2, ...,Gn are independent. W e say the full sequence of random variables X1,X2,X3,... is independent if, for every positive integer n, the n random variables X1,X2,...,Xn are independent."
   ]
  },
  {
   "cell_type": "markdown",
   "metadata": {
    "nbpresent": {
     "id": "557f63ab-5d0f-457d-9bf6-d98a8b36123a"
    }
   },
   "source": [
    "## Theorem 2.2.5. Function of Independent rv are independent\n",
    "\n",
    "Let X and Y be independent random variables, and let f and g be Borel-measurable functions on R. Then f (X) and g(Y) are independent random variables."
   ]
  },
  {
   "cell_type": "markdown",
   "metadata": {
    "nbpresent": {
     "id": "09dbbb80-2595-4d73-8cf5-e9d38c4b1564"
    }
   },
   "source": [
    "## Definition 2.2.6. Joint distribution\n",
    "\n",
    "Let X and Y be random variables. The pair of random variables (X, Y) takes values in the plane B2, and the joint distribution mea- sureof (X,Y) isgiven by4\n",
    "pxsY(C)=P{(x,Y)EC)for allBore1setsCcP."
   ]
  },
  {
   "cell_type": "code",
   "execution_count": null,
   "metadata": {
    "collapsed": true,
    "nbpresent": {
     "id": "52baebb2-7391-429b-9fd8-8fd39e1b814c"
    }
   },
   "outputs": [],
   "source": [
    "## Theorem 2.2.7. Let X and Y be random variables. The following conditions\n",
    "are equivalent."
   ]
  },
  {
   "cell_type": "markdown",
   "metadata": {
    "nbpresent": {
     "id": "856f7603-7394-4078-bb95-49e2eb6b82e1"
    }
   },
   "source": [
    "## Definition 2.2.9. Definition of Variance\n",
    "Let X be a random variable whose expected value is defined. The variance of X, denoted Var(X), is\n",
    "Var(X) = E [(X - EX)*] ."
   ]
  },
  {
   "cell_type": "markdown",
   "metadata": {
    "nbpresent": {
     "id": "dc90dfb5-2df5-4bb8-ae3b-e95e455833bb"
    }
   },
   "source": [
    "## Definition 2.2.11. Jointly Normal distribution\n",
    "\n",
    "Two random variables X and Y are said to be jointly normal if they have the joint density...\n"
   ]
  },
  {
   "cell_type": "markdown",
   "metadata": {
    "nbpresent": {
     "id": "677843bf-de42-495e-ad64-b68b4fcbe27b"
    },
    "slideshow": {
     "slide_type": "slide"
    }
   },
   "source": [
    "## Definition 2.3.1. Conditional Expectation\n",
    "\n",
    "Let (0F,,P ) be a probability space, let G be a sub-a-algebra of F,and let X be a random variable that is either nonnegative or integrable. The conditional expectation of X given G, denoted $\\mathbb{E}[X|\\mathscr{G}]$, is any random variable that satisfies:\n",
    "\n",
    "1. (Measurability) $\\mathbb{E}[X|\\mathscr{G}]$ is $\\mathscr{G}$-measurable, and\n",
    "\n",
    "2. (Partial Averaging) $\\int_{A} \\mathbb{E}[X|\\mathscr{G}](\\omega) d\\mathbb{P}(\\omega)=\\int_{A} X(\\omega) d\\mathbb{P}(\\omega)$ for all $A \\in \\mathscr{G}$\n"
   ]
  },
  {
   "cell_type": "markdown",
   "metadata": {
    "nbpresent": {
     "id": "10cf0bd7-9f04-426e-b710-f82e7a19cf0e"
    }
   },
   "source": [
    "## Theorem 2.3.2. \n",
    "\n",
    "Let (R,F,P) be a probabilitg space and let B be a sub-0- algebra of F..."
   ]
  },
  {
   "cell_type": "markdown",
   "metadata": {
    "nbpresent": {
     "id": "597c1bb5-6edf-4fa7-b0a7-bd19b51702d2"
    }
   },
   "source": [
    "## Lemma 2.3.4 (Independence). \n",
    "\n",
    "Let (0,3P),be a probability space, and let 6 be a sub-a-algebra of 3 . Suppose the random variables XI, ...,XK are G-measurable and the random variables Yl, ...,YL are independent of G. Let f(xl,...,XK, yl,...,yL)beafunction ofthedummyvariablesXI,...,XK and y1,...,y~, and define \n",
    "\n",
    "g(xl, ,XK)=Ef(~1, ,XK,Yl,.,YL)."
   ]
  },
  {
   "cell_type": "markdown",
   "metadata": {
    "nbpresent": {
     "id": "5532c813-05e0-449a-833a-7e033344a894"
    },
    "slideshow": {
     "slide_type": "slide"
    }
   },
   "source": [
    "## Definition 2.3.5. Martingale\n",
    "\n",
    "Let (a,3 ,P) be a probability space, let T be a fued positive number, and let F(t), 0 5 t 5 T , be a filtration of sub-a-algebras of 3. Consider an adapted stochastic process M(t),05 t 5 T .\n",
    "6 ) If\n",
    "lE[M(t)lF(s)=] M(s)for all0<s5t5T,\n",
    "we say this process is a martingale. It has no tendency to rise or fall.\n",
    "                     (ii)If\n",
    "lE[M(t1)3(s)]2M(s)for all05s5t5T,\n",
    "   we say this process is a submartingale. It has no tendency to fall; it may have a tendency to rise.\n",
    "(i) If\n",
    "lE[M(tl)3(s)]5M(s)for all05s5t5T,\n",
    "we say this process is a supermartingale. It has no tendency to rise; it\n",
    "may have a tendency to fall."
   ]
  },
  {
   "cell_type": "markdown",
   "metadata": {
    "nbpresent": {
     "id": "7d6d36d0-8aed-4477-92c6-a7b88027f8cd"
    },
    "slideshow": {
     "slide_type": "slide"
    }
   },
   "source": [
    "## Definition 2.3.6. Markov Process\n",
    "\n",
    "Let (03, ,P) be aprobability space, letT be afied positive number, and let F(t),0 5 t 5 T , be a filtration of sub-a-algebras of 3. Consider an adapted stochastic process X ( t ) , 0 5 t 5 T . Assume that for all 05 s <t 5 T and for every nonnegative, Borel-measurable function f , there is another Borel-measurable function g such that\n",
    "Then we say that the X is a Markov process."
   ]
  },
  {
   "cell_type": "markdown",
   "metadata": {
    "nbpresent": {
     "id": "918f8c87-06fa-4d68-8814-c03b2b697eb6"
    }
   },
   "source": [
    "<a id =\"brownianmotion\"></a>\n",
    "\n",
    "# 3. Brownian Motion\n",
    "\n",
    "(pages  to )\n",
    "\n",
    "[Back to Index](#index)"
   ]
  },
  {
   "cell_type": "code",
   "execution_count": 1,
   "metadata": {
    "nbpresent": {
     "id": "72348b3c-20d2-48ed-a413-4b25557fd661"
    }
   },
   "outputs": [
    {
     "name": "stdout",
     "output_type": "stream",
     "text": [
      "This application is used to convert notebook files (*.ipynb) to various other\n",
      "formats.\n",
      "\n",
      "WARNING: THE COMMANDLINE INTERFACE MAY CHANGE IN FUTURE RELEASES.\n",
      "\n",
      "Options\n",
      "-------\n",
      "\n",
      "Arguments that take values are actually convenience aliases to full\n",
      "Configurables, whose aliases are listed on the help line. For more information\n",
      "on full configurables, see '--help-all'.\n",
      "\n",
      "--execute\n",
      "    Execute the notebook prior to export.\n",
      "--allow-errors\n",
      "    Continue notebook execution even if one of the cells throws an error and include the error message in the cell output (the default behaviour is to abort conversion). This flag is only relevant if '--execute' was specified, too.\n",
      "--stdout\n",
      "    Write notebook output to stdout instead of files.\n",
      "--stdin\n",
      "    read a single notebook file from stdin. Write the resulting notebook with default basename 'notebook.*'\n",
      "--inplace\n",
      "    Run nbconvert in place, overwriting the existing notebook (only \n",
      "    relevant when converting to notebook format)\n",
      "-y\n",
      "    Answer yes to any questions instead of prompting.\n",
      "--debug\n",
      "    set log level to logging.DEBUG (maximize logging output)\n",
      "--no-prompt\n",
      "    Exclude input and output prompts from converted document.\n",
      "--generate-config\n",
      "    generate default config file\n",
      "--nbformat=<Enum> (NotebookExporter.nbformat_version)\n",
      "    Default: 4\n",
      "    Choices: [1, 2, 3, 4]\n",
      "    The nbformat version to write. Use this to downgrade notebooks.\n",
      "--output-dir=<Unicode> (FilesWriter.build_directory)\n",
      "    Default: ''\n",
      "    Directory to write output(s) to. Defaults to output to the directory of each\n",
      "    notebook. To recover previous default behaviour (outputting to the current\n",
      "    working directory) use . as the flag value.\n",
      "--writer=<DottedObjectName> (NbConvertApp.writer_class)\n",
      "    Default: 'FilesWriter'\n",
      "    Writer class used to write the  results of the conversion\n",
      "--log-level=<Enum> (Application.log_level)\n",
      "    Default: 30\n",
      "    Choices: (0, 10, 20, 30, 40, 50, 'DEBUG', 'INFO', 'WARN', 'ERROR', 'CRITICAL')\n",
      "    Set the log level by value or name.\n",
      "--reveal-prefix=<Unicode> (SlidesExporter.reveal_url_prefix)\n",
      "    Default: u''\n",
      "    The URL prefix for reveal.js. This can be a a relative URL for a local copy\n",
      "    of reveal.js, or point to a CDN.\n",
      "    For speaker notes to work, a local reveal.js prefix must be used.\n",
      "--to=<Unicode> (NbConvertApp.export_format)\n",
      "    Default: 'html'\n",
      "    The export format to be used, either one of the built-in formats, or a\n",
      "    dotted object name that represents the import path for an `Exporter` class\n",
      "--template=<Unicode> (TemplateExporter.template_file)\n",
      "    Default: u''\n",
      "    Name of the template file to use\n",
      "--output=<Unicode> (NbConvertApp.output_base)\n",
      "    Default: ''\n",
      "    overwrite base name use for output files. can only be used when converting\n",
      "    one notebook at a time.\n",
      "--post=<DottedOrNone> (NbConvertApp.postprocessor_class)\n",
      "    Default: u''\n",
      "    PostProcessor class used to write the results of the conversion\n",
      "--config=<Unicode> (JupyterApp.config_file)\n",
      "    Default: u''\n",
      "    Full path of a config file.\n",
      "\n",
      "To see all available configurables, use `--help-all`\n",
      "\n",
      "Examples\n",
      "--------\n",
      "\n",
      "    The simplest way to use nbconvert is\n",
      "    \n",
      "    > jupyter nbconvert mynotebook.ipynb\n",
      "    \n",
      "    which will convert mynotebook.ipynb to the default format (probably HTML).\n",
      "    \n",
      "    You can specify the export format with `--to`.\n",
      "    Options include ['asciidoc', 'custom', 'html', 'latex', 'markdown', 'notebook', 'pdf', 'python', 'rst', 'script', 'slides']\n",
      "    \n",
      "    > jupyter nbconvert --to latex mynotebook.ipynb\n",
      "    \n",
      "    Both HTML and LaTeX support multiple output templates. LaTeX includes\n",
      "    'base', 'article' and 'report'.  HTML includes 'basic' and 'full'. You\n",
      "    can specify the flavor of the format used.\n",
      "    \n",
      "    > jupyter nbconvert --to html --template basic mynotebook.ipynb\n",
      "    \n",
      "    You can also pipe the output to stdout, rather than a file\n",
      "    \n",
      "    > jupyter nbconvert mynotebook.ipynb --stdout\n",
      "    \n",
      "    PDF is generated via latex\n",
      "    \n",
      "    > jupyter nbconvert mynotebook.ipynb --to pdf\n",
      "    \n",
      "    You can get (and serve) a Reveal.js-powered slideshow\n",
      "    \n",
      "    > jupyter nbconvert myslides.ipynb --to slides --post serve\n",
      "    \n",
      "    Multiple notebooks can be given at the command line in a couple of \n",
      "    different ways:\n",
      "    \n",
      "    > jupyter nbconvert notebook*.ipynb\n",
      "    > jupyter nbconvert notebook1.ipynb notebook2.ipynb\n",
      "    \n",
      "    or you can specify the notebooks list in a config file, containing::\n",
      "    \n",
      "        c.NbConvertApp.notebooks = [\"my_notebook.ipynb\"]\n",
      "    \n",
      "    > jupyter nbconvert --config mycfg.py\n",
      "\n"
     ]
    },
    {
     "name": "stderr",
     "output_type": "stream",
     "text": [
      "[NbConvertApp] WARNING | pattern u'revealjs_usage.ipynb' matched no files\n"
     ]
    }
   ],
   "source": [
    "%%bash\n",
    "NOTEBOOK=revealjs_usage.ipynb\n",
    "jupyter-nbconvert --to slides $NOTEBOOK --reveal-prefix=reveal.js"
   ]
  },
  {
   "cell_type": "code",
   "execution_count": 4,
   "metadata": {},
   "outputs": [
    {
     "name": "stderr",
     "output_type": "stream",
     "text": [
      "[NbConvertApp] Converting notebook notes_shreve_vol_II_2004.ipynb to html\n",
      "/Library/Frameworks/Python.framework/Versions/2.7/lib/python2.7/site-packages/nbconvert/filters/highlight.py:138: UserWarning: IPython3 lexer unavailable, falling back on Python 3\n",
      "  warn(\"IPython3 lexer unavailable, falling back on Python 3\")\n",
      "[NbConvertApp] Writing 275309 bytes to notes_shreve_vol_II_2004.html\n"
     ]
    }
   ],
   "source": [
    "%%bash\n",
    "jupyter nbconvert notes_shreve_vol_II_2004"
   ]
  },
  {
   "cell_type": "code",
   "execution_count": null,
   "metadata": {
    "collapsed": true
   },
   "outputs": [],
   "source": []
  }
 ],
 "metadata": {
  "celltoolbar": "Slideshow",
  "kernelspec": {
   "display_name": "Python [conda root]",
   "language": "python",
   "name": "conda-root-py"
  },
  "language_info": {
   "codemirror_mode": {
    "name": "ipython",
    "version": 3
   },
   "file_extension": ".py",
   "mimetype": "text/x-python",
   "name": "python",
   "nbconvert_exporter": "python",
   "pygments_lexer": "ipython3",
   "version": "3.6.0"
  },
  "nbpresent": {
   "slides": {
    "0538edce-8c27-47a9-978d-b30b1fae1eea": {
     "id": "0538edce-8c27-47a9-978d-b30b1fae1eea",
     "prev": "07142449-c71b-408f-b93a-7dd57b321431",
     "regions": {
      "a564faa1-270e-48c1-8555-38621a76ea9c": {
       "attrs": {
        "height": 0.8,
        "width": 0.8,
        "x": 0.1,
        "y": 0.1
       },
       "content": {
        "cell": "04429cc1-87ce-40db-98af-7589edcb0ffb",
        "part": "whole"
       },
       "id": "a564faa1-270e-48c1-8555-38621a76ea9c"
      }
     }
    },
    "07142449-c71b-408f-b93a-7dd57b321431": {
     "id": "07142449-c71b-408f-b93a-7dd57b321431",
     "prev": "b8d3609a-14b5-4e05-8caa-a74e0cbc8a1d",
     "regions": {
      "e3db168d-da22-421b-89ae-576a27250738": {
       "attrs": {
        "height": 0.8,
        "width": 0.8,
        "x": 0.1,
        "y": 0.1
       },
       "content": {
        "cell": "2ab5f73d-4fc3-46c9-a147-cd318c2f9a85",
        "part": "whole"
       },
       "id": "e3db168d-da22-421b-89ae-576a27250738"
      }
     }
    },
    "3f13b94b-7c70-4e05-8e0c-1b4903d40a80": {
     "id": "3f13b94b-7c70-4e05-8e0c-1b4903d40a80",
     "prev": "a32592b2-af10-427b-bc16-8a1b7e0e5c60",
     "regions": {
      "b09746bf-efe6-47a4-a73d-29306a4afa62": {
       "attrs": {
        "height": 0.8,
        "width": 0.8,
        "x": 0.1,
        "y": 0.1
       },
       "content": {
        "cell": "326b2ffa-1589-4fe5-b89f-875f6eedc3cb",
        "part": "whole"
       },
       "id": "b09746bf-efe6-47a4-a73d-29306a4afa62"
      }
     }
    },
    "5a6478f2-b30d-4958-beff-f9c13e4e5174": {
     "id": "5a6478f2-b30d-4958-beff-f9c13e4e5174",
     "prev": "3f13b94b-7c70-4e05-8e0c-1b4903d40a80",
     "regions": {
      "d34f7876-67ab-47d2-9bef-71d0662b4eb0": {
       "attrs": {
        "height": 0.8,
        "width": 0.8,
        "x": 0.1,
        "y": 0.1
       },
       "content": {
        "cell": "c2770990-aaec-49f7-8e71-9836e852e10e",
        "part": "whole"
       },
       "id": "d34f7876-67ab-47d2-9bef-71d0662b4eb0"
      }
     }
    },
    "73552e0c-861c-4e36-894f-59f29183c254": {
     "id": "73552e0c-861c-4e36-894f-59f29183c254",
     "prev": "dd63e579-6d0f-4c38-92ac-e4b4e8616cf1",
     "regions": {
      "31d38df1-36ee-4ab5-a3f4-5903b6738e4c": {
       "attrs": {
        "height": 0.8,
        "width": 0.8,
        "x": 0.1,
        "y": 0.1
       },
       "content": {
        "cell": "e89136fc-e209-4fd7-b275-a3db1f91e757",
        "part": "whole"
       },
       "id": "31d38df1-36ee-4ab5-a3f4-5903b6738e4c"
      }
     }
    },
    "9a144ae3-c647-4682-a281-8c5ea96971f9": {
     "id": "9a144ae3-c647-4682-a281-8c5ea96971f9",
     "prev": "e25ab471-d6b3-4d81-b2e4-9d992d8fc657",
     "regions": {
      "00ecfd04-3f86-446c-a557-db78012b031f": {
       "attrs": {
        "height": 0.4,
        "width": 0.8,
        "x": 0.1,
        "y": 0.5
       },
       "content": {
        "cell": "52baebb2-7391-429b-9fd8-8fd39e1b814c",
        "part": "whole"
       },
       "id": "00ecfd04-3f86-446c-a557-db78012b031f"
      },
      "0c688a52-f1e9-435c-b97e-2d9ea879c26a": {
       "attrs": {
        "height": 0.4,
        "width": 0.8,
        "x": 0.1,
        "y": 0.5
       },
       "content": {
        "cell": "856f7603-7394-4078-bb95-49e2eb6b82e1",
        "part": "whole"
       },
       "id": "0c688a52-f1e9-435c-b97e-2d9ea879c26a"
      },
      "6604f6fc-7e1d-4822-94c2-91936a1bf6c7": {
       "attrs": {
        "height": 0.4,
        "width": 0.8,
        "x": 0.1,
        "y": 0.5
       },
       "content": {
        "cell": "09dbbb80-2595-4d73-8cf5-e9d38c4b1564",
        "part": "whole"
       },
       "id": "6604f6fc-7e1d-4822-94c2-91936a1bf6c7"
      },
      "7d24594f-00ff-4312-a171-4bcf113df0cb": {
       "attrs": {
        "height": 0.4,
        "width": 0.8,
        "x": 0.1,
        "y": 0.5
       },
       "content": {
        "cell": "2c77b4fa-4e25-41aa-9212-fd228ab00dc2",
        "part": "whole"
       },
       "id": "7d24594f-00ff-4312-a171-4bcf113df0cb"
      },
      "9682d258-ed11-4288-a3ea-b92f4f43896a": {
       "attrs": {
        "height": 0.4,
        "width": 0.8,
        "x": 0.1,
        "y": 0.5
       },
       "content": {
        "cell": "dc90dfb5-2df5-4bb8-ae3b-e95e455833bb",
        "part": "whole"
       },
       "id": "9682d258-ed11-4288-a3ea-b92f4f43896a"
      },
      "abfca56a-66d5-4957-acfb-4d83afb6001f": {
       "attrs": {
        "height": 0.8,
        "width": 0.8,
        "x": 0.1,
        "y": 0.1
       },
       "content": {
        "cell": "a744fdb9-c5d7-403b-9478-518c5dcac34b",
        "part": "whole"
       },
       "id": "abfca56a-66d5-4957-acfb-4d83afb6001f"
      },
      "b2f375ea-33ad-46d5-9114-72ab80a5ff53": {
       "attrs": {
        "height": 0.4,
        "width": 0.8,
        "x": 0.1,
        "y": 0.5
       },
       "content": {
        "cell": "ebaadfe7-967f-440b-9353-fdd1d9e476e7",
        "part": "whole"
       },
       "id": "b2f375ea-33ad-46d5-9114-72ab80a5ff53"
      },
      "dd4c2b08-acec-43d3-b9b2-95f90648675d": {
       "attrs": {
        "height": 0.4,
        "width": 0.8,
        "x": 0.1,
        "y": 0.5
       },
       "content": {
        "cell": "557f63ab-5d0f-457d-9bf6-d98a8b36123a",
        "part": "whole"
       },
       "id": "dd4c2b08-acec-43d3-b9b2-95f90648675d"
      }
     }
    },
    "9c9c9ad0-904f-4172-a93c-6e0bcd6e36c9": {
     "id": "9c9c9ad0-904f-4172-a93c-6e0bcd6e36c9",
     "prev": "73552e0c-861c-4e36-894f-59f29183c254",
     "regions": {
      "00082454-96af-4700-88ab-49a9722f9a41": {
       "attrs": {
        "height": 0.4,
        "width": 0.8,
        "x": 0.1,
        "y": 0.5
       },
       "content": {
        "cell": "bec12554-a9e4-448a-96f5-852c92c2041e",
        "part": "whole"
       },
       "id": "00082454-96af-4700-88ab-49a9722f9a41"
      },
      "87cc5b92-f234-41d7-af49-525a95c04d50": {
       "attrs": {
        "height": 0.8,
        "width": 0.8,
        "x": 0.1,
        "y": 0.1
       },
       "content": {
        "cell": "01a4a91c-7c77-487a-915d-87988e65b261",
        "part": "whole"
       },
       "id": "87cc5b92-f234-41d7-af49-525a95c04d50"
      }
     }
    },
    "a240a7c2-4ef6-4886-bc05-7546b66cff07": {
     "id": "a240a7c2-4ef6-4886-bc05-7546b66cff07",
     "prev": "cebf687d-b606-4bc7-8fa2-b2c2d9507dd6",
     "regions": {
      "88743dec-acf4-48d5-a9c7-d7d220de3fa1": {
       "attrs": {
        "height": 0.4,
        "width": 0.8,
        "x": 0.1,
        "y": 0.5
       },
       "content": {
        "cell": "72348b3c-20d2-48ed-a413-4b25557fd661",
        "part": "whole"
       },
       "id": "88743dec-acf4-48d5-a9c7-d7d220de3fa1"
      },
      "8e05030d-48a8-4491-90c1-da7e6a1a1dd3": {
       "attrs": {
        "height": 0.8,
        "width": 0.8,
        "x": 0.1,
        "y": 0.1
       },
       "content": {
        "cell": "7d6d36d0-8aed-4477-92c6-a7b88027f8cd",
        "part": "whole"
       },
       "id": "8e05030d-48a8-4491-90c1-da7e6a1a1dd3"
      },
      "fa5c78e9-a366-4afa-b041-670ee85ad5e9": {
       "attrs": {
        "height": 0.4,
        "width": 0.8,
        "x": 0.1,
        "y": 0.5
       },
       "content": {
        "cell": "918f8c87-06fa-4d68-8814-c03b2b697eb6",
        "part": "whole"
       },
       "id": "fa5c78e9-a366-4afa-b041-670ee85ad5e9"
      }
     }
    },
    "a32592b2-af10-427b-bc16-8a1b7e0e5c60": {
     "id": "a32592b2-af10-427b-bc16-8a1b7e0e5c60",
     "prev": "de1b901d-ac1a-4e84-81fd-9df5b9c66539",
     "regions": {
      "82e38696-21b7-4236-9275-6033cc30aedc": {
       "attrs": {
        "height": 0.8,
        "width": 0.8,
        "x": 0.1,
        "y": 0.1
       },
       "content": {
        "cell": "49ed82e5-7774-4224-b4a8-7ea5cfa512cd",
        "part": "whole"
       },
       "id": "82e38696-21b7-4236-9275-6033cc30aedc"
      }
     }
    },
    "a4139f64-1042-4376-9670-394c4883985b": {
     "id": "a4139f64-1042-4376-9670-394c4883985b",
     "prev": "9a144ae3-c647-4682-a281-8c5ea96971f9",
     "regions": {
      "22f3a8cd-4084-499d-8b2e-f9ab5320aa10": {
       "attrs": {
        "height": 0.4,
        "width": 0.8,
        "x": 0.1,
        "y": 0.5
       },
       "content": {
        "cell": "10cf0bd7-9f04-426e-b710-f82e7a19cf0e",
        "part": "whole"
       },
       "id": "22f3a8cd-4084-499d-8b2e-f9ab5320aa10"
      },
      "65e977d6-e968-42c0-b01e-9624c81e0afd": {
       "attrs": {
        "height": 0.8,
        "width": 0.8,
        "x": 0.1,
        "y": 0.1
       },
       "content": {
        "cell": "677843bf-de42-495e-ad64-b68b4fcbe27b",
        "part": "whole"
       },
       "id": "65e977d6-e968-42c0-b01e-9624c81e0afd"
      },
      "678df5b8-ebad-492f-b111-2ab3a794b12d": {
       "attrs": {
        "height": 0.4,
        "width": 0.8,
        "x": 0.1,
        "y": 0.5
       },
       "content": {
        "cell": "597c1bb5-6edf-4fa7-b0a7-bd19b51702d2",
        "part": "whole"
       },
       "id": "678df5b8-ebad-492f-b111-2ab3a794b12d"
      }
     }
    },
    "a821dc4c-c05b-463c-aa0a-8b8c70de7133": {
     "id": "a821dc4c-c05b-463c-aa0a-8b8c70de7133",
     "prev": "f03e2e49-1995-4f44-ba2b-ff79afe81d53",
     "regions": {
      "ee749b41-9689-4582-bd6c-1be80ea16e9f": {
       "attrs": {
        "height": 0.8,
        "width": 0.8,
        "x": 0.1,
        "y": 0.1
       },
       "content": {
        "cell": "8c43ef59-351b-4fe8-9a39-7a2c8f2523d6",
        "part": "whole"
       },
       "id": "ee749b41-9689-4582-bd6c-1be80ea16e9f"
      }
     }
    },
    "b8d3609a-14b5-4e05-8caa-a74e0cbc8a1d": {
     "id": "b8d3609a-14b5-4e05-8caa-a74e0cbc8a1d",
     "prev": null,
     "regions": {
      "422ecd06-30ee-4948-aec7-310aaf478e7a": {
       "attrs": {
        "height": 0.8,
        "width": 0.8,
        "x": 0.1,
        "y": 0.1
       },
       "content": {
        "cell": "d00d7882-e77a-4b86-9f5f-bea871a06c63",
        "part": "whole"
       },
       "id": "422ecd06-30ee-4948-aec7-310aaf478e7a"
      }
     }
    },
    "cebf687d-b606-4bc7-8fa2-b2c2d9507dd6": {
     "id": "cebf687d-b606-4bc7-8fa2-b2c2d9507dd6",
     "prev": "a4139f64-1042-4376-9670-394c4883985b",
     "regions": {
      "e9bd3258-3787-46d8-bdb3-c95d8c3163cd": {
       "attrs": {
        "height": 0.8,
        "width": 0.8,
        "x": 0.1,
        "y": 0.1
       },
       "content": {
        "cell": "5532c813-05e0-449a-833a-7e033344a894",
        "part": "whole"
       },
       "id": "e9bd3258-3787-46d8-bdb3-c95d8c3163cd"
      }
     }
    },
    "dd63e579-6d0f-4c38-92ac-e4b4e8616cf1": {
     "id": "dd63e579-6d0f-4c38-92ac-e4b4e8616cf1",
     "prev": "0538edce-8c27-47a9-978d-b30b1fae1eea",
     "regions": {
      "a9036a40-b0ee-4e4f-bb2c-f61c23acb234": {
       "attrs": {
        "height": 0.8,
        "width": 0.8,
        "x": 0.1,
        "y": 0.1
       },
       "content": {
        "cell": "9e79c8f3-9159-4159-baa9-b34f9cb61db6",
        "part": "whole"
       },
       "id": "a9036a40-b0ee-4e4f-bb2c-f61c23acb234"
      }
     }
    },
    "de1b901d-ac1a-4e84-81fd-9df5b9c66539": {
     "id": "de1b901d-ac1a-4e84-81fd-9df5b9c66539",
     "prev": "a821dc4c-c05b-463c-aa0a-8b8c70de7133",
     "regions": {
      "a8a3b214-118e-4a4e-ab96-2fe9551e94d3": {
       "attrs": {
        "height": 0.8,
        "width": 0.8,
        "x": 0.1,
        "y": 0.1
       },
       "content": {
        "cell": "6a3164e0-eafd-4ca0-950c-a6c2063490b3",
        "part": "whole"
       },
       "id": "a8a3b214-118e-4a4e-ab96-2fe9551e94d3"
      }
     }
    },
    "e25ab471-d6b3-4d81-b2e4-9d992d8fc657": {
     "id": "e25ab471-d6b3-4d81-b2e4-9d992d8fc657",
     "prev": "5a6478f2-b30d-4958-beff-f9c13e4e5174",
     "regions": {
      "0e434629-725a-4e70-8ac7-04015fab73ae": {
       "attrs": {
        "height": 0.8,
        "width": 0.8,
        "x": 0.1,
        "y": 0.1
       },
       "content": {
        "cell": "89daf97a-6d82-4994-ae8a-afa387b2255d",
        "part": "whole"
       },
       "id": "0e434629-725a-4e70-8ac7-04015fab73ae"
      }
     }
    },
    "f03e2e49-1995-4f44-ba2b-ff79afe81d53": {
     "id": "f03e2e49-1995-4f44-ba2b-ff79afe81d53",
     "prev": "9c9c9ad0-904f-4172-a93c-6e0bcd6e36c9",
     "regions": {
      "8248b308-5930-47f3-a4b9-92759bc4deea": {
       "attrs": {
        "height": 0.8,
        "width": 0.8,
        "x": 0.1,
        "y": 0.1
       },
       "content": {
        "cell": "d21bc442-5d8f-4184-8294-e72a3f93565a",
        "part": "whole"
       },
       "id": "8248b308-5930-47f3-a4b9-92759bc4deea"
      }
     }
    }
   },
   "themes": {}
  }
 },
 "nbformat": 4,
 "nbformat_minor": 2
}
